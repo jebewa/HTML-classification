{
 "cells": [
  {
   "cell_type": "code",
   "execution_count": 1,
   "metadata": {
    "collapsed": false
   },
   "outputs": [
    {
     "data": {
      "text/markdown": [
       "# Code instructions\n",
       "In this Jupyter Notebook you can find my solution to the second project for the course *Introduction to Data Mining*.\n",
       "This Notebook contains both the code and the report.\n",
       "\n",
       "## Loading the Data\n",
       "In order to load the required data into this Notebook, the Notebook needs to be placed in the same directory\n",
       "as two folders with the name **train** and **test**. Inside the **train** folder there should be three subfolders:\n",
       "**course**, **faculty** and **student**. These three subfolders should contain the HTML-files for respectively\n",
       "the course webpages, the faculty webpages and the student webpages.\n",
       "\n",
       "The **test** folder is where all the test data needs to be stored.\n",
       "\n",
       "## Installing the libraries\n",
       "This Notebook is written in Python 2.7 and requires some non-standard libraries. If these libraries are not\n",
       "installed on your machine, some cells of code will give errors. Below is a list of required libraries.\n",
       "\n",
       "- NLTK\n",
       "- Matplotlib\n",
       "- Scipy\n",
       "- Numpy\n",
       "- Sklearn\n",
       "- Pandas\n",
       "- Time\n",
       "- Bs4\n",
       "\n",
       "In feature engineering section, the stopword list from Python's NLTK will need to be downloaded. The command for downloading this list is already included in the code. This command will however need to be uncommented first.\n"
      ],
      "text/plain": [
       "<IPython.core.display.Markdown object>"
      ]
     },
     "metadata": {},
     "output_type": "display_data"
    }
   ],
   "source": [
    "from IPython.display import display, Markdown\n",
    "with open('readme.md', 'r') as fh:\n",
    "    content = fh.read()\n",
    "display(Markdown(content))"
   ]
  },
  {
   "cell_type": "markdown",
   "metadata": {},
   "source": [
    "# Introduction to Data Mining: Project 2"
   ]
  },
  {
   "cell_type": "markdown",
   "metadata": {},
   "source": [
    "In this project, the goal is to define a model that can predict whether an html-page from an academic institution belongs to a student, a course or a member of the academic staff. In order to do this, the data will have to be loaded and pre-processed. Features have to be defined and different classifiers with varying parameters will be tested on the test-data to find the most adequate one. The accuracy results for the different classifiers will be evaluated. After finding the optimal model, both in terms of predicting performance and speed, this model will be applied to the full test data."
   ]
  },
  {
   "cell_type": "markdown",
   "metadata": {},
   "source": [
    "First, the full train data will be loaded into a Pandas DataFrame. This DataFrame will contain two columns: one for the actual html-file that is loaded and one for its corresponding category. The first cell will also load some modules that might come in handy afterwards such as BeautifulSoup to parse html-files and Python's Natural Language ToolKit for performing text analysis."
   ]
  },
  {
   "cell_type": "code",
   "execution_count": 2,
   "metadata": {
    "collapsed": false
   },
   "outputs": [],
   "source": [
    "import pandas as pd\n",
    "import os\n",
    "import nltk\n",
    "from bs4 import BeautifulSoup\n",
    "from nltk.stem.porter import *     # after getting errors with importing nltk, changed ../tests/compat_fixt.py to ../tests/compat.py\n",
    "def readData(path):\n",
    "    data = pd.DataFrame(index=[], columns=['text','category'])\n",
    "    ind = 0\n",
    "    for cat in os.listdir(path):\n",
    "        for f in os.listdir(path+'\\\\'+cat):    \n",
    "                content = open(path+'\\\\'+cat+'\\\\'+f).read()                   \n",
    "                data.loc[ind] = [content,cat]\n",
    "                ind = ind + 1\n",
    "    return data"
   ]
  },
  {
   "cell_type": "code",
   "execution_count": 3,
   "metadata": {
    "collapsed": false
   },
   "outputs": [
    {
     "name": "stdout",
     "output_type": "stream",
     "text": [
      "(2464, 2)\n"
     ]
    },
    {
     "data": {
      "text/html": [
       "<div>\n",
       "<table border=\"1\" class=\"dataframe\">\n",
       "  <thead>\n",
       "    <tr style=\"text-align: right;\">\n",
       "      <th></th>\n",
       "      <th>text</th>\n",
       "      <th>category</th>\n",
       "    </tr>\n",
       "  </thead>\n",
       "  <tbody>\n",
       "    <tr>\n",
       "      <th>0</th>\n",
       "      <td>&lt;HEAD&gt;\\n&lt;TITLE&gt;CSE 121/131 Home Page&lt;/TITLE&gt;\\n...</td>\n",
       "      <td>course</td>\n",
       "    </tr>\n",
       "    <tr>\n",
       "      <th>1</th>\n",
       "      <td>Date: Tue, 26 Nov 1996 19:10:40 GMT\\nServer: N...</td>\n",
       "      <td>course</td>\n",
       "    </tr>\n",
       "    <tr>\n",
       "      <th>2</th>\n",
       "      <td>Date: Tue, 26 Nov 1996 19:12:30 GMT\\nServer: N...</td>\n",
       "      <td>course</td>\n",
       "    </tr>\n",
       "    <tr>\n",
       "      <th>3</th>\n",
       "      <td>Date: Tuesday, 26-Nov-96 19:09:20 GMT\\nServer:...</td>\n",
       "      <td>course</td>\n",
       "    </tr>\n",
       "    <tr>\n",
       "      <th>4</th>\n",
       "      <td>Date: Tuesday, 26-Nov-96 19:07:04 GMT\\nServer:...</td>\n",
       "      <td>course</td>\n",
       "    </tr>\n",
       "  </tbody>\n",
       "</table>\n",
       "</div>"
      ],
      "text/plain": [
       "                                                text category\n",
       "0  <HEAD>\\n<TITLE>CSE 121/131 Home Page</TITLE>\\n...   course\n",
       "1  Date: Tue, 26 Nov 1996 19:10:40 GMT\\nServer: N...   course\n",
       "2  Date: Tue, 26 Nov 1996 19:12:30 GMT\\nServer: N...   course\n",
       "3  Date: Tuesday, 26-Nov-96 19:09:20 GMT\\nServer:...   course\n",
       "4  Date: Tuesday, 26-Nov-96 19:07:04 GMT\\nServer:...   course"
      ]
     },
     "execution_count": 3,
     "metadata": {},
     "output_type": "execute_result"
    }
   ],
   "source": [
    "full_train_data = readData('C:\\Users\\Tim\\Documents\\KU Leuven\\Master digital humanities\\Introduction to data mining\\Project\\dm-project\\\\train')\n",
    "print full_train_data.shape\n",
    "full_train_data.head()"
   ]
  },
  {
   "cell_type": "markdown",
   "metadata": {},
   "source": [
    "## 1. Feature Engineering\n"
   ]
  },
  {
   "cell_type": "markdown",
   "metadata": {},
   "source": [
    "Now that the train data is loaded into the DataFrame a next step is to define meaningful features and convert these to a feature-vector format so they can eventually be applied to the classifiers. In order to do this, a new DataFrame will contain the features that are defined."
   ]
  },
  {
   "cell_type": "markdown",
   "metadata": {},
   "source": [
    "### First feature set"
   ]
  },
  {
   "cell_type": "markdown",
   "metadata": {},
   "source": [
    "A first set of features looks at the actual structure of the pages. It is for example likely that a webpage for a student or a faculty member will contain an image while a course webpage does not. Similarly, students and perhaps even faculty members will have more than one email-address included on their webpage - professional and personal - while courses are likely to contain only one email-address. Maybe even more interesting is the old address tag which is an indication of the inclusion of contact information on the author. Finally, it seems that some students tend to style their homepages while the pages for faculty and courses are far more sober. For this reason there will also be a feature included that keeps track of a styling element. More concrete, this first feature set will use the BeautifulSoup library to parse the html-pages and look for specific elements in these pages, their presence or absence will serve as features. The features are: the absence or presence of an image, the amount of links, the amount of addresses and the presence or absence of a colour attribute in one of the elements of the webpage."
   ]
  },
  {
   "cell_type": "code",
   "execution_count": 4,
   "metadata": {
    "collapsed": false
   },
   "outputs": [],
   "source": [
    "features1 = pd.DataFrame()"
   ]
  },
  {
   "cell_type": "code",
   "execution_count": 5,
   "metadata": {
    "collapsed": false
   },
   "outputs": [
    {
     "name": "stderr",
     "output_type": "stream",
     "text": [
      "C:\\Users\\Tim\\Anaconda2\\lib\\site-packages\\bs4\\__init__.py:181: UserWarning: No parser was explicitly specified, so I'm using the best available HTML parser for this system (\"lxml\"). This usually isn't a problem, but if you run this code on another system, or in a different virtual environment, it may use a different parser and behave differently.\n",
      "\n",
      "The code that caused this warning is on line 174 of the file C:\\Users\\Tim\\Anaconda2\\lib\\runpy.py. To get rid of this warning, change code that looks like this:\n",
      "\n",
      " BeautifulSoup([your markup])\n",
      "\n",
      "to this:\n",
      "\n",
      " BeautifulSoup([your markup], \"lxml\")\n",
      "\n",
      "  markup_type=markup_type))\n"
     ]
    }
   ],
   "source": [
    "images = []\n",
    "for im in full_train_data['text']:\n",
    "    im_check = 0\n",
    "    if BeautifulSoup(im).find_all(\"img\"):\n",
    "        im_check = 1\n",
    "    images.append(im_check)\n",
    "features1['images'] = images"
   ]
  },
  {
   "cell_type": "markdown",
   "metadata": {},
   "source": [
    "Image seems to do be a decent start. About 50 % for every classifier, maybe even better when counting!!. Afterwards: describe all these features separate like you did it --> first images than the keywords etc... + also: first True and False, than counting etc..."
   ]
  },
  {
   "cell_type": "code",
   "execution_count": 6,
   "metadata": {
    "collapsed": false
   },
   "outputs": [],
   "source": [
    "link = []\n",
    "for ad in full_train_data['text']:\n",
    "    ad_check = 0\n",
    "    ad_check = len(BeautifulSoup(ad).find_all(\"a\"))\n",
    "    link.append(ad_check)\n",
    "features1['link'] = link"
   ]
  },
  {
   "cell_type": "code",
   "execution_count": 7,
   "metadata": {
    "collapsed": false
   },
   "outputs": [],
   "source": [
    "address = []\n",
    "for ad in full_train_data['text']:\n",
    "    ad_check = 0\n",
    "    ad_check = len(BeautifulSoup(ad).find_all(\"address\"))\n",
    "    address.append(ad_check)\n",
    "features1['address'] = address"
   ]
  },
  {
   "cell_type": "code",
   "execution_count": 8,
   "metadata": {
    "collapsed": false
   },
   "outputs": [],
   "source": [
    "background = []\n",
    "for ad in full_train_data['text']:\n",
    "    ad_check = 0\n",
    "    if BeautifulSoup(ad).find_all(attrs={\"color\":True}):\n",
    "        ad_check = 1\n",
    "    background.append(ad_check)\n",
    "features1['background'] = background"
   ]
  },
  {
   "cell_type": "code",
   "execution_count": 9,
   "metadata": {
    "collapsed": false
   },
   "outputs": [
    {
     "data": {
      "text/html": [
       "<div>\n",
       "<table border=\"1\" class=\"dataframe\">\n",
       "  <thead>\n",
       "    <tr style=\"text-align: right;\">\n",
       "      <th></th>\n",
       "      <th>images</th>\n",
       "      <th>link</th>\n",
       "      <th>address</th>\n",
       "      <th>background</th>\n",
       "    </tr>\n",
       "  </thead>\n",
       "  <tbody>\n",
       "    <tr>\n",
       "      <th>0</th>\n",
       "      <td>1</td>\n",
       "      <td>18</td>\n",
       "      <td>0</td>\n",
       "      <td>0</td>\n",
       "    </tr>\n",
       "    <tr>\n",
       "      <th>1</th>\n",
       "      <td>0</td>\n",
       "      <td>28</td>\n",
       "      <td>0</td>\n",
       "      <td>0</td>\n",
       "    </tr>\n",
       "    <tr>\n",
       "      <th>2</th>\n",
       "      <td>0</td>\n",
       "      <td>25</td>\n",
       "      <td>0</td>\n",
       "      <td>0</td>\n",
       "    </tr>\n",
       "    <tr>\n",
       "      <th>3</th>\n",
       "      <td>1</td>\n",
       "      <td>16</td>\n",
       "      <td>0</td>\n",
       "      <td>0</td>\n",
       "    </tr>\n",
       "    <tr>\n",
       "      <th>4</th>\n",
       "      <td>0</td>\n",
       "      <td>5</td>\n",
       "      <td>0</td>\n",
       "      <td>0</td>\n",
       "    </tr>\n",
       "  </tbody>\n",
       "</table>\n",
       "</div>"
      ],
      "text/plain": [
       "   images  link  address  background\n",
       "0       1    18        0           0\n",
       "1       0    28        0           0\n",
       "2       0    25        0           0\n",
       "3       1    16        0           0\n",
       "4       0     5        0           0"
      ]
     },
     "execution_count": 9,
     "metadata": {},
     "output_type": "execute_result"
    }
   ],
   "source": [
    "features1.head()"
   ]
  },
  {
   "cell_type": "markdown",
   "metadata": {},
   "source": [
    "### Second feature set"
   ]
  },
  {
   "cell_type": "markdown",
   "metadata": {},
   "source": [
    "A second feature selection consists of the Bag Of Words approach. More specifically, I will use Scikit's Countvectorizer module to implement the tfidf-method on the different pages in order to calculate the importance of the words for each page. To get the tfidf-scores, the pages will first need to be fully parsed to retrieve their plain text only without the HTML-tags. The BeautifulSoup library will once again serve beautifully to do this. For the sake of consistency I will also put the tfidf-results for each page into a DataFrame which requires some data transformation steps."
   ]
  },
  {
   "cell_type": "code",
   "execution_count": 10,
   "metadata": {
    "collapsed": true
   },
   "outputs": [],
   "source": [
    "features2 = pd.DataFrame()"
   ]
  },
  {
   "cell_type": "code",
   "execution_count": 11,
   "metadata": {
    "collapsed": false
   },
   "outputs": [],
   "source": [
    "full = []\n",
    "for item in full_train_data['text']:   \n",
    "    plain_text = BeautifulSoup(item).get_text()\n",
    "    full.append(plain_text)\n",
    "full_train_data['plainText'] = full"
   ]
  },
  {
   "cell_type": "markdown",
   "metadata": {},
   "source": [
    "In an attempt to improve the efficiency of this feature set, I will manually remove some stopwords using the NLTK stopword list. Although the tfidf-method already decreases the weight of stopwords, completely deleting the stopwords manually might improve the performance of the tfidf-feature."
   ]
  },
  {
   "cell_type": "code",
   "execution_count": 12,
   "metadata": {
    "collapsed": false
   },
   "outputs": [],
   "source": [
    "# nltk.download('stopwords')  --> downloads the stopwords list from NLTK!!!!\n",
    "stop = nltk.corpus.stopwords.words('english')\n",
    "for i in range(len(full_train_data['plainText'])):\n",
    "    fil = []\n",
    "    for word in full_train_data['plainText'][i].split():\n",
    "        if word.lower() not in stop:\n",
    "            fil.append(word)\n",
    "    full_train_data['plainText'][i] = \" \".join(fil)"
   ]
  },
  {
   "cell_type": "code",
   "execution_count": 13,
   "metadata": {
    "collapsed": false
   },
   "outputs": [
    {
     "data": {
      "text/html": [
       "<div>\n",
       "<table border=\"1\" class=\"dataframe\">\n",
       "  <thead>\n",
       "    <tr style=\"text-align: right;\">\n",
       "      <th></th>\n",
       "      <th>text</th>\n",
       "      <th>category</th>\n",
       "      <th>plainText</th>\n",
       "    </tr>\n",
       "  </thead>\n",
       "  <tbody>\n",
       "    <tr>\n",
       "      <th>0</th>\n",
       "      <td>&lt;HEAD&gt;\\n&lt;TITLE&gt;CSE 121/131 Home Page&lt;/TITLE&gt;\\n...</td>\n",
       "      <td>course</td>\n",
       "      <td>CSE 121/131 Home Page CSE 121/131 Home Page Pr...</td>\n",
       "    </tr>\n",
       "    <tr>\n",
       "      <th>1</th>\n",
       "      <td>Date: Tue, 26 Nov 1996 19:10:40 GMT\\nServer: N...</td>\n",
       "      <td>course</td>\n",
       "      <td>Date: Tue, 26 Nov 1996 19:10:40 GMT Server: NC...</td>\n",
       "    </tr>\n",
       "    <tr>\n",
       "      <th>2</th>\n",
       "      <td>Date: Tue, 26 Nov 1996 19:12:30 GMT\\nServer: N...</td>\n",
       "      <td>course</td>\n",
       "      <td>Date: Tue, 26 Nov 1996 19:12:30 GMT Server: NC...</td>\n",
       "    </tr>\n",
       "    <tr>\n",
       "      <th>3</th>\n",
       "      <td>Date: Tuesday, 26-Nov-96 19:09:20 GMT\\nServer:...</td>\n",
       "      <td>course</td>\n",
       "      <td>Date: Tuesday, 26-Nov-96 19:09:20 GMT Server: ...</td>\n",
       "    </tr>\n",
       "    <tr>\n",
       "      <th>4</th>\n",
       "      <td>Date: Tuesday, 26-Nov-96 19:07:04 GMT\\nServer:...</td>\n",
       "      <td>course</td>\n",
       "      <td>Date: Tuesday, 26-Nov-96 19:07:04 GMT Server: ...</td>\n",
       "    </tr>\n",
       "  </tbody>\n",
       "</table>\n",
       "</div>"
      ],
      "text/plain": [
       "                                                text category  \\\n",
       "0  <HEAD>\\n<TITLE>CSE 121/131 Home Page</TITLE>\\n...   course   \n",
       "1  Date: Tue, 26 Nov 1996 19:10:40 GMT\\nServer: N...   course   \n",
       "2  Date: Tue, 26 Nov 1996 19:12:30 GMT\\nServer: N...   course   \n",
       "3  Date: Tuesday, 26-Nov-96 19:09:20 GMT\\nServer:...   course   \n",
       "4  Date: Tuesday, 26-Nov-96 19:07:04 GMT\\nServer:...   course   \n",
       "\n",
       "                                           plainText  \n",
       "0  CSE 121/131 Home Page CSE 121/131 Home Page Pr...  \n",
       "1  Date: Tue, 26 Nov 1996 19:10:40 GMT Server: NC...  \n",
       "2  Date: Tue, 26 Nov 1996 19:12:30 GMT Server: NC...  \n",
       "3  Date: Tuesday, 26-Nov-96 19:09:20 GMT Server: ...  \n",
       "4  Date: Tuesday, 26-Nov-96 19:07:04 GMT Server: ...  "
      ]
     },
     "execution_count": 13,
     "metadata": {},
     "output_type": "execute_result"
    }
   ],
   "source": [
    "full_train_data.head()"
   ]
  },
  {
   "cell_type": "code",
   "execution_count": 14,
   "metadata": {
    "collapsed": false
   },
   "outputs": [
    {
     "data": {
      "text/plain": [
       "(2464, 37346)"
      ]
     },
     "execution_count": 14,
     "metadata": {},
     "output_type": "execute_result"
    }
   ],
   "source": [
    "from sklearn.feature_extraction.text import CountVectorizer\n",
    "count_vect = CountVectorizer()\n",
    "X_train_counts = count_vect.fit_transform(full_train_data['plainText'])\n",
    "X_train_counts.shape"
   ]
  },
  {
   "cell_type": "code",
   "execution_count": 15,
   "metadata": {
    "collapsed": false
   },
   "outputs": [
    {
     "data": {
      "text/html": [
       "<div>\n",
       "<table border=\"1\" class=\"dataframe\">\n",
       "  <thead>\n",
       "    <tr style=\"text-align: right;\">\n",
       "      <th></th>\n",
       "      <th>tfidf</th>\n",
       "    </tr>\n",
       "  </thead>\n",
       "  <tbody>\n",
       "    <tr>\n",
       "      <th>0</th>\n",
       "      <td>[0.0, 0.0, 0.0, 0.0, 0.0, 0.0, 0.054684841401,...</td>\n",
       "    </tr>\n",
       "    <tr>\n",
       "      <th>1</th>\n",
       "      <td>[0.0, 0.0, 0.0, 0.0, 0.0, 0.0, 0.0, 0.0, 0.0, ...</td>\n",
       "    </tr>\n",
       "    <tr>\n",
       "      <th>2</th>\n",
       "      <td>[0.0, 0.0, 0.0, 0.0, 0.0, 0.0, 0.0, 0.0, 0.0, ...</td>\n",
       "    </tr>\n",
       "    <tr>\n",
       "      <th>3</th>\n",
       "      <td>[0.0, 0.0, 0.0, 0.0, 0.0, 0.0, 0.0, 0.0, 0.0, ...</td>\n",
       "    </tr>\n",
       "    <tr>\n",
       "      <th>4</th>\n",
       "      <td>[0.0, 0.0, 0.0, 0.0, 0.0, 0.0, 0.0, 0.0, 0.0, ...</td>\n",
       "    </tr>\n",
       "  </tbody>\n",
       "</table>\n",
       "</div>"
      ],
      "text/plain": [
       "                                               tfidf\n",
       "0  [0.0, 0.0, 0.0, 0.0, 0.0, 0.0, 0.054684841401,...\n",
       "1  [0.0, 0.0, 0.0, 0.0, 0.0, 0.0, 0.0, 0.0, 0.0, ...\n",
       "2  [0.0, 0.0, 0.0, 0.0, 0.0, 0.0, 0.0, 0.0, 0.0, ...\n",
       "3  [0.0, 0.0, 0.0, 0.0, 0.0, 0.0, 0.0, 0.0, 0.0, ...\n",
       "4  [0.0, 0.0, 0.0, 0.0, 0.0, 0.0, 0.0, 0.0, 0.0, ..."
      ]
     },
     "execution_count": 15,
     "metadata": {},
     "output_type": "execute_result"
    }
   ],
   "source": [
    "from sklearn.feature_extraction.text import TfidfTransformer\n",
    "transformer = TfidfTransformer(norm=u'l2', use_idf=True, smooth_idf=True, sublinear_tf=False).fit(X_train_counts)\n",
    "X_train_tfidf = transformer.transform(X_train_counts)\n",
    "features2['tfidf'] = list(X_train_tfidf.toarray())\n",
    "features2.head()"
   ]
  },
  {
   "cell_type": "markdown",
   "metadata": {},
   "source": [
    "### Third feature set"
   ]
  },
  {
   "cell_type": "markdown",
   "metadata": {
    "collapsed": true
   },
   "source": [
    "A third set of features is somewhat similar to the tfidf-calculations. Instead of taking the relevance of all the words into account, this feature set will be looking at the frequency of specific keywords and try to predict the category of a webpage based on these frequencies. A loop will iterate over all the actual words in a file and stem this word using the Porter Stemmer from the NLTK library. Then, this stemmed word will be checked for its appearance in a list of meaningful words that are stemmed as well. If there is a match, the frequency of the feature for that specific file will go up. This process will be repeated for three keyword lists, one containing words associated with faculty members, another with words related to courses and a last one with keywords on students. The frequency of these features will again be stored into a DataFrame."
   ]
  },
  {
   "cell_type": "code",
   "execution_count": 16,
   "metadata": {
    "collapsed": true
   },
   "outputs": [],
   "source": [
    "features3 = pd.DataFrame()"
   ]
  },
  {
   "cell_type": "code",
   "execution_count": 17,
   "metadata": {
    "collapsed": false
   },
   "outputs": [],
   "source": [
    "ps = nltk.stem.PorterStemmer()"
   ]
  },
  {
   "cell_type": "code",
   "execution_count": 18,
   "metadata": {
    "collapsed": false
   },
   "outputs": [],
   "source": [
    "faculty_terms = [\"director\", \"board\", \"member\", \"contact\", \"research\", \"faculty\", \"teaching\", \"professor\", \"member\", \"professor\", \"i\", \"dr.\", \"phd\"]\n",
    "faculty_stem = []\n",
    "faculties = []\n",
    "for term in faculty_terms:\n",
    "    new = ps.stem(term)\n",
    "    faculty_stem.append(new)\n",
    "for i in range(len(full_train_data['plainText'])):\n",
    "    fac_check = 0\n",
    "    for word in full_train_data['plainText'][i].split():\n",
    "        if ps.stem(word.lower()) in faculty_stem:\n",
    "            fac_check += 1\n",
    "    faculties.append(fac_check)\n",
    "features3['faculty'] = faculties\n",
    "features3['faculty'] = features3['faculty'].values.reshape(-1, 1)"
   ]
  },
  {
   "cell_type": "code",
   "execution_count": 19,
   "metadata": {
    "collapsed": false
   },
   "outputs": [],
   "source": [
    "course_terms = [\"course\", \"exam\", \"materials\", \"homework\", \"exams\", \"textbook\", \"syllabus\", \"handouts\", \"notes\", \"eecs\"]\n",
    "course_stem = []\n",
    "courses = []\n",
    "for term in course_terms:\n",
    "    new = ps.stem(term)\n",
    "    course_stem.append(new)\n",
    "for i in range(len(full_train_data['plainText'])):\n",
    "    course_check = 0\n",
    "    for word in full_train_data['plainText'][i].split():\n",
    "        if ps.stem(word.lower()) in course_stem:\n",
    "            course_check += 1\n",
    "    courses.append(course_check)\n",
    "features3['course'] = courses\n",
    "features3['course'] = features3['course'].values.reshape(-1, 1)"
   ]
  },
  {
   "cell_type": "code",
   "execution_count": 20,
   "metadata": {
    "collapsed": true
   },
   "outputs": [],
   "source": [
    "student_terms = [\"am\", \"progress\", \"student\", \"homepage\", \"address\", \"my\", \"phd\"]\n",
    "student_stem = []\n",
    "students = []\n",
    "for term in student_terms:\n",
    "    new = ps.stem(term)\n",
    "    student_stem.append(new)\n",
    "for i in range(len(full_train_data['plainText'])):\n",
    "    stud_check = 0\n",
    "    for word in full_train_data['plainText'][i].split():\n",
    "        if ps.stem(word.lower()) in student_stem:\n",
    "            stud_check += 1\n",
    "    students.append(stud_check)\n",
    "features3['student'] = students\n",
    "features3['student'] = features3['student'].values.reshape(-1, 1)"
   ]
  },
  {
   "cell_type": "code",
   "execution_count": 21,
   "metadata": {
    "collapsed": false
   },
   "outputs": [
    {
     "data": {
      "text/html": [
       "<div>\n",
       "<table border=\"1\" class=\"dataframe\">\n",
       "  <thead>\n",
       "    <tr style=\"text-align: right;\">\n",
       "      <th></th>\n",
       "      <th>faculty</th>\n",
       "      <th>course</th>\n",
       "      <th>student</th>\n",
       "    </tr>\n",
       "  </thead>\n",
       "  <tbody>\n",
       "    <tr>\n",
       "      <th>0</th>\n",
       "      <td>1</td>\n",
       "      <td>3</td>\n",
       "      <td>0</td>\n",
       "    </tr>\n",
       "    <tr>\n",
       "      <th>1</th>\n",
       "      <td>1</td>\n",
       "      <td>12</td>\n",
       "      <td>3</td>\n",
       "    </tr>\n",
       "    <tr>\n",
       "      <th>2</th>\n",
       "      <td>3</td>\n",
       "      <td>16</td>\n",
       "      <td>2</td>\n",
       "    </tr>\n",
       "    <tr>\n",
       "      <th>3</th>\n",
       "      <td>0</td>\n",
       "      <td>4</td>\n",
       "      <td>3</td>\n",
       "    </tr>\n",
       "    <tr>\n",
       "      <th>4</th>\n",
       "      <td>0</td>\n",
       "      <td>4</td>\n",
       "      <td>0</td>\n",
       "    </tr>\n",
       "  </tbody>\n",
       "</table>\n",
       "</div>"
      ],
      "text/plain": [
       "   faculty  course  student\n",
       "0        1       3        0\n",
       "1        1      12        3\n",
       "2        3      16        2\n",
       "3        0       4        3\n",
       "4        0       4        0"
      ]
     },
     "execution_count": 21,
     "metadata": {},
     "output_type": "execute_result"
    }
   ],
   "source": [
    "features3.head()"
   ]
  },
  {
   "cell_type": "markdown",
   "metadata": {},
   "source": [
    "The next line will merge the three sets together into one data matrix and written into the file 'featurematrix.csv'."
   ]
  },
  {
   "cell_type": "code",
   "execution_count": 22,
   "metadata": {
    "collapsed": false
   },
   "outputs": [],
   "source": [
    "feature_matrix = pd.concat([features1, features2, features3], axis=1)\n",
    "feature_matrix.to_csv('featurematrix.csv', sep='|', encoding='utf-8', index=False)"
   ]
  },
  {
   "cell_type": "markdown",
   "metadata": {},
   "source": [
    "## 2. Models"
   ]
  },
  {
   "cell_type": "markdown",
   "metadata": {},
   "source": [
    "Next, the three different featuresets will be used to train models and to make predictions for the web pages. In order to do this, a dummy baseline model will first be created to predict the majority class. Next, a total of four different classifiers will be used. The selected classifiers all belong to different so-called 'tribes'. From the field of linear classifiers, I chose logistic regression for its simplicity and speed. Secondly, the K-Nearest Neighbour classifier will make predictions based on association. From the symbolic classifiers, the decision tree classifier was selected. As an extension to this, random forest was chosen to try and obtain higher results with this ensemble learning method. Finally, a linear support vector machine will be implemented, namely stochastic gradient descent, for its proven effectiveness on textual data.\n",
    "\n",
    "Each model will also immediately get evaluated on its performance. In order to evaluate the performance of the classifier, two metrics will be used. First, the actual predicting accuracy of the classifier will be tested on ten different subsamples of an equal size. The full training set will be split into these ten subsets using k-fold cross-validation where k=10. This will result in ten accuracy values for the model of which the mean will be calculated. Secondly, to get an idea on how meaningful this accuracy measure is, a confusion matrix will be constructed. This will be done by splitting the train data into a new train set and a tune test set where the last one in one third of the size of the first one. After that, a confusion matrix will show how many of the examples were correctly predicted. Please note that although I mostly make use of the sklearn modules, I used pandas for the splitting and the construction of the confusion matrices for its insightful overview. For every classifier there is also some information on the training and predicting time since the can also be an important variable when choosing a model."
   ]
  },
  {
   "cell_type": "code",
   "execution_count": 23,
   "metadata": {
    "collapsed": false
   },
   "outputs": [],
   "source": [
    "from sklearn.cross_validation import cross_val_score\n",
    "import numpy as np\n",
    "from sklearn.cross_validation import train_test_split\n",
    "from sklearn.metrics import confusion_matrix\n",
    "import matplotlib.pyplot as plt\n",
    "from time import time\n",
    "from sklearn.grid_search import GridSearchCV\n",
    "from operator import itemgetter\n",
    "import scipy as sp\n",
    "from scipy.stats import t\n",
    "from scipy import stats"
   ]
  },
  {
   "cell_type": "markdown",
   "metadata": {},
   "source": [
    "The next function is meant for calculating the 95% confidence interval for every model."
   ]
  },
  {
   "cell_type": "code",
   "execution_count": 24,
   "metadata": {
    "collapsed": true
   },
   "outputs": [],
   "source": [
    "def mean_confidence_interval(data, confidence=0.95):\n",
    "    a = 1.0*np.array(data)\n",
    "    n = len(a)\n",
    "    m, se = np.mean(a), stats.sem(a)\n",
    "    h = se * sp.stats.t._ppf((1+confidence)/2., n-1)\n",
    "    return \"95% confidence interval: \"  + str((m-h, m+h))"
   ]
  },
  {
   "cell_type": "markdown",
   "metadata": {},
   "source": [
    "### Dummy classifier"
   ]
  },
  {
   "cell_type": "code",
   "execution_count": 43,
   "metadata": {
    "collapsed": false
   },
   "outputs": [
    {
     "name": "stdout",
     "output_type": "stream",
     "text": [
      "Feature set 1: \n",
      "\n",
      "training time:  0.002 s\n",
      "\n",
      "predicting time:  0.195 s\n",
      "\n",
      "0.372469635628\n",
      "0.376518218623\n",
      "0.364372469636\n",
      "0.356275303644\n",
      "0.426829268293\n",
      "0.325203252033\n",
      "0.325203252033\n",
      "0.361788617886\n",
      "0.390243902439\n",
      "0.378048780488\n",
      "\n",
      "0.36769527007\n",
      "\n",
      "95% confidence interval: (0.34636665722012128, 0.38902388292009793)\n",
      "\n",
      "Predicted  course  faculty  student  All\n",
      "True                                    \n",
      "course         57       59      105  221\n",
      "faculty        54       71      122  247\n",
      "student        89      114      143  346\n",
      "All           200      244      370  814\n"
     ]
    },
    {
     "data": {
      "image/png": "[encoded data removed]",
      "text/plain": [
       "<matplotlib.figure.Figure at 0x127e6dd8>"
      ]
     },
     "metadata": {},
     "output_type": "display_data"
    },
    {
     "name": "stdout",
     "output_type": "stream",
     "text": [
      "\n",
      "Feature set 2: \n",
      "\n",
      "training time:  0.002 s\n",
      "\n",
      "predicting time:  1.392 s\n",
      "\n",
      "0.348178137652\n",
      "0.364372469636\n",
      "0.315789473684\n",
      "0.303643724696\n",
      "0.317073170732\n",
      "0.345528455285\n",
      "0.333333333333\n",
      "0.308943089431\n",
      "0.341463414634\n",
      "0.353658536585\n",
      "\n",
      "0.333198380567\n",
      "\n",
      "95% confidence interval: (0.31838344067089697, 0.34801332046270628)\n",
      "\n",
      "Predicted  course  faculty  student  All\n",
      "True                                    \n",
      "course         55       69       97  221\n",
      "faculty        65       66      116  247\n",
      "student        76      118      152  346\n",
      "All           196      253      365  814\n"
     ]
    },
    {
     "data": {
      "image/png": "[encoded data removed]",
      "text/plain": [
       "<matplotlib.figure.Figure at 0x12d9e588>"
      ]
     },
     "metadata": {},
     "output_type": "display_data"
    },
    {
     "name": "stdout",
     "output_type": "stream",
     "text": [
      "\n",
      "Feature set 3: \n",
      "\n",
      "training time:  0.002 s\n",
      "\n",
      "predicting time:  0.149 s\n",
      "\n",
      "0.36032388664\n",
      "0.384615384615\n",
      "0.323886639676\n",
      "0.327935222672\n",
      "0.369918699187\n",
      "0.317073170732\n",
      "0.378048780488\n",
      "0.386178861789\n",
      "0.325203252033\n",
      "0.321138211382\n",
      "\n",
      "0.349432210921\n",
      "\n",
      "95% confidence interval: (0.3287887932031528, 0.37007562863944621)\n",
      "\n",
      "Predicted  course  faculty  student  All\n",
      "True                                    \n",
      "course         57       67       97  221\n",
      "faculty        63       75      109  247\n",
      "student        78      118      150  346\n",
      "All           198      260      356  814\n"
     ]
    },
    {
     "data": {
      "image/png": "[encoded data removed]",
      "text/plain": [
       "<matplotlib.figure.Figure at 0xebd75f8>"
      ]
     },
     "metadata": {},
     "output_type": "display_data"
    },
    {
     "name": "stdout",
     "output_type": "stream",
     "text": [
      "\n"
     ]
    }
   ],
   "source": [
    "from sklearn.dummy import DummyClassifier\n",
    "def dumClass(feature_set):\n",
    "    classifier = DummyClassifier()\n",
    "    x_train, x_test  = train_test_split(feature_set, test_size = 0.33, random_state=42)\n",
    "    y_train, y_test = train_test_split(full_train_data['category'], test_size = 0.33, random_state=42)\n",
    "    t0 = time()\n",
    "    classifier.fit(x_train, y_train)\n",
    "    print 'training time: ', round(time()-t0, 3), 's'\n",
    "    print\n",
    "    t1 = time()\n",
    "    accuracies = cross_val_score(classifier, feature_set, full_train_data['category'], cv=10) #volledige data gebruiken want split automatisch!!!!!\n",
    "    print 'predicting time: ', round(time()-t1, 3), 's'\n",
    "    print\n",
    "    for acc in accuracies:\n",
    "        print acc\n",
    "    print\n",
    "    print np.mean(accuracies)\n",
    "    print\n",
    "    print mean_confidence_interval(accuracies)\n",
    "    print\n",
    "    \n",
    "\n",
    "    y_pred = classifier.fit(x_train, y_train).predict(x_test)\n",
    "    \n",
    "    conf = pd.crosstab(y_test, y_pred, rownames=['True'], colnames=['Predicted'], margins=True)\n",
    "    print conf\n",
    "    im = plt.imshow(conf.iloc[0:3, 0:3], cmap='binary', interpolation='None')\n",
    "    plt.xticks([0, 1, 2], ['course', 'faculty', 'student'])\n",
    "    plt.yticks([0, 1, 2], ['course', 'faculty', 'student'])\n",
    "    plt.show(im)\n",
    "    return accuracies, conf, im\n",
    "print \"Feature set 1: \"\n",
    "print\n",
    "dumClass(features1)\n",
    "print\n",
    "print \"Feature set 2: \"\n",
    "print\n",
    "dumClass(features2['tfidf'].tolist())\n",
    "print\n",
    "print \"Feature set 3: \"\n",
    "print\n",
    "dumClass(features3)\n",
    "print"
   ]
  },
  {
   "cell_type": "markdown",
   "metadata": {},
   "source": [
    "The dummy classifier shows low accuracy rates for all feature sets which is not a surprise. What is interesting for the analysis of the real classifiers are the results from the confusion matrix. The matrix shows a tendency in predicting towards the majority class which is 'students'. "
   ]
  },
  {
   "cell_type": "markdown",
   "metadata": {},
   "source": [
    "### Logistic regression classifier"
   ]
  },
  {
   "cell_type": "markdown",
   "metadata": {},
   "source": [
    "A first prediction model that will be applied to all three sets of features is the Logistic regression classifier. This simple prediction model tends to work well in practice and might give some first insights on the effectivity of the features. The fact that it works relatively fast is also an advantage when using the tfidf-values. I selected the logistic regression classifier over the other statistical classifier naïve bayes because I expect it will have slightly better predicting results. To obtain the best parameters for the best feature set possible, a grid search over a number of parameters will first be conducted."
   ]
  },
  {
   "cell_type": "code",
   "execution_count": 26,
   "metadata": {
    "collapsed": false
   },
   "outputs": [
    {
     "name": "stdout",
     "output_type": "stream",
     "text": [
      "\n",
      "GridSearchCV took 3.39 seconds for 32 candidate parameter settings.\n",
      "mean: 0.50121, std: 0.01126, params: {'penalty': 'l1', 'random_state': 20, 'fit_intercept': False, 'class_weight': 'balanced'}\n",
      "\n",
      "GridSearchCV took 163.99 seconds for 40 candidate parameter settings.\n",
      "mean: 0.90485, std: 0.02409, params: {'penalty': 'l2', 'random_state': 10, 'fit_intercept': False, 'class_weight': 'balanced'}\n",
      "\n",
      "GridSearchCV took 3.30 seconds for 32 candidate parameter settings.\n",
      "mean: 0.77636, std: 0.01592, params: {'penalty': 'l2', 'random_state': 10, 'fit_intercept': True, 'class_weight': None}\n"
     ]
    },
    {
     "data": {
      "text/plain": [
       "mean: 0.77636, std: 0.01592, params: {'penalty': 'l2', 'random_state': 10, 'fit_intercept': True, 'class_weight': None}"
      ]
     },
     "execution_count": 26,
     "metadata": {},
     "output_type": "execute_result"
    }
   ],
   "source": [
    "from sklearn.linear_model import LogisticRegression\n",
    "def log_gridsearch(feature_set, clf, param_grid, cv=4):\n",
    "\n",
    "    grid_search = GridSearchCV(clf,\n",
    "                               param_grid=param_grid,\n",
    "                               cv=cv)\n",
    "    x_train, x_test  = train_test_split(feature_set, test_size = 0.33, random_state=42)\n",
    "    y_train, y_test = train_test_split(full_train_data['category'], test_size = 0.33, random_state=42)\n",
    "    start = time()\n",
    "    grid_search.fit(x_train, y_train)\n",
    "\n",
    "    print((\"\\nGridSearchCV took {:.2f} \"\n",
    "           \"seconds for {:d} candidate \"\n",
    "           \"parameter settings.\").format(time() - start,\n",
    "                len(grid_search.grid_scores_)))\n",
    "\n",
    "    print sorted(grid_search.grid_scores_, key=itemgetter(1), reverse=True)[1]\n",
    "    return sorted(grid_search.grid_scores_, key=itemgetter(1), reverse=True)[1]\n",
    "\n",
    "log_gridsearch(features1, LogisticRegression(), {\n",
    "              \"penalty\": [\"l1\", \"l2\"],\n",
    "              \"fit_intercept\": [False, True],\n",
    "              \"class_weight\": [None, \"balanced\"],\n",
    "              \"random_state\": [None, 10, 20, 50]})\n",
    "log_gridsearch(features2['tfidf'].tolist(), LogisticRegression(), {\n",
    "              \"penalty\": [\"l2\", \"l1\"],\n",
    "              \"fit_intercept\": [False, True],\n",
    "              \"class_weight\": [None, \"balanced\"],\n",
    "              \"random_state\": [None, 10, 20, 40, 50],\n",
    "              })\n",
    "log_gridsearch(features3, LogisticRegression(), {\n",
    "              \"penalty\": [\"l2\", \"l1\"],\n",
    "              \"fit_intercept\": [False, True],\n",
    "              \"class_weight\": [None, \"balanced\"],\n",
    "              \"random_state\": [None, 10, 20, 50]})"
   ]
  },
  {
   "cell_type": "code",
   "execution_count": 44,
   "metadata": {
    "collapsed": false
   },
   "outputs": [
    {
     "name": "stdout",
     "output_type": "stream",
     "text": [
      "Feature set 1: \n",
      "\n",
      "training time:  0.016 s\n",
      "\n",
      "predicting time:  0.379 s\n",
      "\n",
      "0.473684210526\n",
      "0.449392712551\n",
      "0.477732793522\n",
      "0.46963562753\n",
      "0.455284552846\n",
      "0.520325203252\n",
      "0.569105691057\n",
      "0.630081300813\n",
      "0.451219512195\n",
      "0.475609756098\n",
      "\n",
      "0.497207136039\n",
      "\n",
      "95% confidence interval: (0.45476718962763807, 0.53964708245030535)\n",
      "\n",
      "Predicted  course  faculty  student  All\n",
      "True                                    \n",
      "course        123       18       80  221\n",
      "faculty        43       84      120  247\n",
      "student        69       64      213  346\n",
      "All           235      166      413  814\n"
     ]
    },
    {
     "data": {
      "image/png": "[encoded data removed]",
      "text/plain": [
       "<matplotlib.figure.Figure at 0x125d2198>"
      ]
     },
     "metadata": {},
     "output_type": "display_data"
    },
    {
     "name": "stdout",
     "output_type": "stream",
     "text": [
      "\n",
      "Feature set 2: \n",
      "\n",
      "training time:  1.228 s\n",
      "\n",
      "predicting time:  15.459 s\n",
      "\n",
      "0.939271255061\n",
      "0.927125506073\n",
      "0.886639676113\n",
      "0.898785425101\n",
      "0.906504065041\n",
      "0.943089430894\n",
      "0.910569105691\n",
      "0.89837398374\n",
      "0.910569105691\n",
      "0.882113821138\n",
      "\n",
      "0.910304137454\n",
      "\n",
      "95% confidence interval: (0.89552544406165335, 0.92508283084700671)\n",
      "\n",
      "Predicted  course  faculty  student  All\n",
      "True                                    \n",
      "course        195        5       21  221\n",
      "faculty         3      226       18  247\n",
      "student        10       11      325  346\n",
      "All           208      242      364  814\n"
     ]
    },
    {
     "data": {
      "image/png": "[encoded data removed]",
      "text/plain": [
       "<matplotlib.figure.Figure at 0x11074e10>"
      ]
     },
     "metadata": {},
     "output_type": "display_data"
    },
    {
     "name": "stdout",
     "output_type": "stream",
     "text": [
      "\n",
      "Feature set 3: \n",
      "\n",
      "training time:  0.019 s\n",
      "\n",
      "predicting time:  0.376 s\n",
      "\n",
      "0.619433198381\n",
      "0.68016194332\n",
      "0.708502024291\n",
      "0.708502024291\n",
      "0.760162601626\n",
      "0.731707317073\n",
      "0.69918699187\n",
      "0.686991869919\n",
      "0.626016260163\n",
      "0.731707317073\n",
      "\n",
      "0.695237154801\n",
      "\n",
      "95% confidence interval: (0.66317796096310344, 0.72729634863829218)\n",
      "\n",
      "Predicted  course  faculty  student  All\n",
      "True                                    \n",
      "course        206        8        7  221\n",
      "faculty        15      211       21  247\n",
      "student        83       90      173  346\n",
      "All           304      309      201  814\n"
     ]
    },
    {
     "data": {
      "image/png": "[encoded data removed]",
      "text/plain": [
       "<matplotlib.figure.Figure at 0x1269c9e8>"
      ]
     },
     "metadata": {},
     "output_type": "display_data"
    },
    {
     "name": "stdout",
     "output_type": "stream",
     "text": [
      "\n"
     ]
    }
   ],
   "source": [
    "from sklearn.linear_model import LogisticRegression\n",
    "\n",
    "def logReg(feature_set):\n",
    "    classifier = LogisticRegression(penalty='l1', random_state=10,dual=False, class_weight=\"balanced\", fit_intercept= False)\n",
    "    x_train, x_test  = train_test_split(feature_set, test_size = 0.33, random_state=42)\n",
    "    y_train, y_test = train_test_split(full_train_data['category'], test_size = 0.33, random_state=42)\n",
    "    t0 = time()\n",
    "    classifier.fit(x_train, y_train)\n",
    "    print 'training time: ', round(time()-t0, 3), 's'\n",
    "    print\n",
    "    t1 = time()\n",
    "    accuracies = cross_val_score(classifier, feature_set, full_train_data['category'], cv=10)\n",
    "    print 'predicting time: ', round(time()-t1, 3), 's'\n",
    "    print\n",
    "    for acc in accuracies:\n",
    "        print acc\n",
    "    print\n",
    "    print np.mean(accuracies)\n",
    "    print\n",
    "    print mean_confidence_interval(accuracies)\n",
    "    print\n",
    "\n",
    "    y_pred = classifier.fit(x_train, y_train).predict(x_test)\n",
    "    \n",
    "    conf = pd.crosstab(y_test, y_pred, rownames=['True'], colnames=['Predicted'], margins=True)\n",
    "    print conf\n",
    "    im = plt.imshow(conf.iloc[0:3, 0:3], cmap='binary', interpolation='None')\n",
    "    plt.xticks([0, 1, 2], ['course', 'faculty', 'student'])\n",
    "    plt.yticks([0, 1, 2], ['course', 'faculty', 'student'])\n",
    "    plt.show(im)\n",
    "    return accuracies, conf, im\n",
    "print \"Feature set 1: \"\n",
    "print\n",
    "logReg(features1)\n",
    "print\n",
    "print \"Feature set 2: \"\n",
    "print\n",
    "logReg(features2['tfidf'].tolist())\n",
    "print\n",
    "print \"Feature set 3: \"\n",
    "print\n",
    "logReg(features3)\n",
    "print"
   ]
  },
  {
   "cell_type": "markdown",
   "metadata": {},
   "source": [
    "I did not use the accuracies directly from the grid search since I only used 4-fold cross-validation to limit the time. To get a complete idea on all the metrics of this classifier, I then used the optimal parameters for an evaluation of the logistic regression classifier for the different feature sets with 10-fold cross-validation. After some parameter tuning, the accuracies were higher than those of the grid search so I used these manually adjusted parameters."
   ]
  },
  {
   "cell_type": "markdown",
   "metadata": {},
   "source": [
    "Some conclusions can be drawn from the results of this first basic classifier. First of all, the first feature set seems to have only very limited predicting capacities. Although the difference between the results for the first set of features of the dummy baseline and those of the logistic regression model is significant, it is not very large. In contrast to that, there is a very big difference between the accuracy results of the logistic regression model and the dummy classifier for the two other sets of features. Using the tfidf-values, the mean of the ten different accuracies reach up to 85% with l2 regularisation and over 88% when using l1 regularisation, which is also faster. The other metrics for this feature are good as well. The matrix shows only limited confusion towards the student class and the 95% confidence interval is fairly small."
   ]
  },
  {
   "cell_type": "markdown",
   "metadata": {},
   "source": [
    "### K-Nearest neighbor classifier"
   ]
  },
  {
   "cell_type": "markdown",
   "metadata": {
    "collapsed": false
   },
   "source": [
    "The next classifier that will be tried out for prediction with the three different feature sets is K-Nearest neighbors. I do not have very high expectations for this classifier because of its very low bias. Moreover, because of its slow query-time, I had to use a different n_neighbors parameter for the tfidf-features than for the other feature sets since the processing was taking up too much time."
   ]
  },
  {
   "cell_type": "code",
   "execution_count": 45,
   "metadata": {
    "collapsed": false
   },
   "outputs": [
    {
     "name": "stdout",
     "output_type": "stream",
     "text": [
      "Feature set 1: \n",
      "\n",
      "training time:  0.003 s\n",
      "\n",
      "predicting time:  0.658 s\n",
      "\n",
      "0.485829959514\n",
      "0.493927125506\n",
      "0.497975708502\n",
      "0.449392712551\n",
      "0.471544715447\n",
      "0.544715447154\n",
      "0.50406504065\n",
      "0.49593495935\n",
      "0.479674796748\n",
      "0.475609756098\n",
      "\n",
      "0.489867022152\n",
      "\n",
      "95% confidence interval: (0.47198101049783081, 0.50775303380617498)\n",
      "\n",
      "Predicted  course  faculty  student  All\n",
      "True                                    \n",
      "course         50       27      144  221\n",
      "faculty        18       91      138  247\n",
      "student        33       72      241  346\n",
      "All           101      190      523  814\n"
     ]
    },
    {
     "data": {
      "image/png": "[encoded data removed]",
      "text/plain": [
       "<matplotlib.figure.Figure at 0xed62f28>"
      ]
     },
     "metadata": {},
     "output_type": "display_data"
    },
    {
     "name": "stdout",
     "output_type": "stream",
     "text": [
      "\n",
      "Feature set 2: \n",
      "\n",
      "training time:  0.673 s\n",
      "\n",
      "predicting time:  35.126 s\n",
      "\n",
      "0.696356275304\n",
      "0.744939271255\n",
      "0.708502024291\n",
      "0.712550607287\n",
      "0.735772357724\n",
      "0.707317073171\n",
      "0.646341463415\n",
      "0.670731707317\n",
      "0.784552845528\n",
      "0.776422764228\n",
      "\n",
      "0.718348638952\n",
      "\n",
      "95% confidence interval: (0.68729981727039768, 0.74939746063355539)\n",
      "\n",
      "Predicted  course  faculty  student  All\n",
      "True                                    \n",
      "course        212        5        4  221\n",
      "faculty        16      184       47  247\n",
      "student        17       37      292  346\n",
      "All           245      226      343  814\n"
     ]
    },
    {
     "data": {
      "image/png": "[encoded data removed]",
      "text/plain": [
       "<matplotlib.figure.Figure at 0xe51e7b8>"
      ]
     },
     "metadata": {},
     "output_type": "display_data"
    },
    {
     "name": "stdout",
     "output_type": "stream",
     "text": [
      "\n",
      "Feature set 3: \n",
      "\n",
      "training time:  0.003 s\n",
      "\n",
      "predicting time:  0.477 s\n",
      "\n",
      "0.757085020243\n",
      "0.761133603239\n",
      "0.846153846154\n",
      "0.793522267206\n",
      "0.821138211382\n",
      "0.772357723577\n",
      "0.760162601626\n",
      "0.764227642276\n",
      "0.772357723577\n",
      "0.821138211382\n",
      "\n",
      "0.786927685066\n",
      "\n",
      "95% confidence interval: (0.76417566725750374, 0.80967970287514501)\n",
      "\n",
      "Predicted  course  faculty  student  All\n",
      "True                                    \n",
      "course        195        2       24  221\n",
      "faculty        11      177       59  247\n",
      "student        22       45      279  346\n",
      "All           228      224      362  814\n"
     ]
    },
    {
     "data": {
      "image/png": "[encoded data removed]",
      "text/plain": [
       "<matplotlib.figure.Figure at 0xc943080>"
      ]
     },
     "metadata": {},
     "output_type": "display_data"
    },
    {
     "name": "stdout",
     "output_type": "stream",
     "text": [
      "\n"
     ]
    }
   ],
   "source": [
    "from sklearn.neighbors import KNeighborsClassifier\n",
    "\n",
    "def knnClass(feature_set, k, l):\n",
    "    classifier = KNeighborsClassifier(n_neighbors=k, algorithm='brute', leaf_size=l)\n",
    "    x_train, x_test  = train_test_split(feature_set, test_size = 0.33, random_state=42)\n",
    "    y_train, y_test = train_test_split(full_train_data['category'], test_size = 0.33, random_state=42)\n",
    "    t0 = time()\n",
    "    classifier.fit(x_train, y_train)\n",
    "    print 'training time: ', round(time()-t0, 3), 's'\n",
    "    print\n",
    "    t1 = time()\n",
    "    accuracies = cross_val_score(classifier, feature_set, full_train_data['category'], cv=10)\n",
    "    print 'predicting time: ', round(time()-t1, 3), 's'\n",
    "    print\n",
    "    for acc in accuracies:\n",
    "        print acc\n",
    "    print\n",
    "    print np.mean(accuracies)\n",
    "    print\n",
    "    print mean_confidence_interval(accuracies)\n",
    "    print\n",
    "\n",
    "    y_pred = classifier.fit(x_train, y_train).predict(x_test)\n",
    "    \n",
    "    conf = pd.crosstab(y_test, y_pred, rownames=['True'], colnames=['Predicted'], margins=True)\n",
    "    print conf\n",
    "    im = plt.imshow(conf.iloc[0:3, 0:3], cmap='binary', interpolation='None')\n",
    "    plt.xticks([0, 1, 2], ['course', 'faculty', 'student'])\n",
    "    plt.yticks([0, 1, 2], ['course', 'faculty', 'student'])\n",
    "    plt.show(im)\n",
    "    return accuracies, conf, im\n",
    "print \"Feature set 1: \"\n",
    "print\n",
    "knnClass(features1, 30, 20)\n",
    "print\n",
    "print \"Feature set 2: \"\n",
    "print\n",
    "knnClass(features2['tfidf'].tolist(), 10, 20)\n",
    "print\n",
    "print \"Feature set 3: \"\n",
    "print\n",
    "knnClass(features3, 28, 20)\n",
    "print"
   ]
  },
  {
   "cell_type": "markdown",
   "metadata": {
    "collapsed": false
   },
   "source": [
    "As it turns out, it seems that the Nearest neighbor classifier did better than expected, especially for feature set 3. Regardless of the parameters, feature set 1 almost never reaches accuracy scores that are higher than 48%. In contrast to that, feature set 3 can get up to accuracies of about 80% when using more neighbors than the default value. When using over 28 neighbors, the accuracy seems to go down again, probably due to the decreased variance. Also, the brute-force search algorithm seems to improve the accuracies. For the other parameters the default ones seem to be the most effective. The confusion matrix of the first feature set confirm its bad predicting abilities. The confusion matrix of the third feature set also seems to do some damage to the fair accuracies. In both cases, the models appears to have a bias towards the students category.\n",
    "\n",
    "The use of this classifier for the  tfidf-values is slightly different. Because of the limited capacities of my machine, I had to select some different, probably non-optimal, parameters for the Knn classifier. The most important difference is the lower amount of neighbors to decrease the query time. I dit however keep it high enough to limit the chance of overfitting but the accuracy results as well as the confusion matrix show fairly low prediction results anyway."
   ]
  },
  {
   "cell_type": "markdown",
   "metadata": {},
   "source": [
    "### Decision tree"
   ]
  },
  {
   "cell_type": "markdown",
   "metadata": {},
   "source": [
    "For the third model, I selected a symbolic classifier: the decission tree. Since I am not very much aware of which parameters would be best suited for this classifier, I used grid search with a five-fold cross validation to search for the optimal parameters. Because of the large amount of time to perform the grid search for the tfidf-values on my machine, I commented this out and only used the optimal parameters for the third feature set."
   ]
  },
  {
   "cell_type": "code",
   "execution_count": 29,
   "metadata": {
    "collapsed": false
   },
   "outputs": [
    {
     "name": "stdout",
     "output_type": "stream",
     "text": [
      "\n",
      "GridSearchCV took 8.46 seconds for 288 candidate parameter settings.\n",
      "mean: 0.52121, std: 0.00669, params: {'min_samples_split': 10, 'max_leaf_nodes': None, 'criterion': 'gini', 'max_depth': 2, 'min_samples_leaf': 1}\n",
      "\n",
      "GridSearchCV took 8.41 seconds for 288 candidate parameter settings.\n",
      "mean: 0.77515, std: 0.00088, params: {'min_samples_split': 10, 'max_leaf_nodes': None, 'criterion': 'gini', 'max_depth': 5, 'min_samples_leaf': 10}\n"
     ]
    },
    {
     "data": {
      "text/plain": [
       "mean: 0.77515, std: 0.00088, params: {'min_samples_split': 10, 'max_leaf_nodes': None, 'criterion': 'gini', 'max_depth': 5, 'min_samples_leaf': 10}"
      ]
     },
     "execution_count": 29,
     "metadata": {},
     "output_type": "execute_result"
    }
   ],
   "source": [
    "from sklearn.tree import DecisionTreeClassifier\n",
    "\n",
    "def tree_gridsearch(feature_set, clf, param_grid, cv=2):\n",
    "\n",
    "    grid_search = GridSearchCV(clf,\n",
    "                               param_grid=param_grid,\n",
    "                               cv=cv)\n",
    "    x_train, x_test  = train_test_split(feature_set, test_size = 0.33, random_state=42)\n",
    "    y_train, y_test = train_test_split(full_train_data['category'], test_size = 0.33, random_state=42)\n",
    "    start = time()\n",
    "    grid_search.fit(x_train, y_train)\n",
    "\n",
    "    print((\"\\nGridSearchCV took {:.2f} \"\n",
    "           \"seconds for {:d} candidate \"\n",
    "           \"parameter settings.\").format(time() - start,\n",
    "                len(grid_search.grid_scores_)))\n",
    "    print sorted(grid_search.grid_scores_, key=itemgetter(1), reverse=True)[1]\n",
    "    return sorted(grid_search.grid_scores_, key=itemgetter(1), reverse=True)[1]\n",
    "\n",
    "tree_gridsearch(features1, DecisionTreeClassifier(), {\"criterion\": [\"gini\", \"entropy\"],\n",
    "              \"min_samples_split\": [2, 10, 20],\n",
    "              \"max_depth\": [None, 2, 5, 10],\n",
    "              \"min_samples_leaf\": [1, 5, 10],\n",
    "              \"max_leaf_nodes\": [None, 5, 10, 20]})\n",
    "# tree_gridsearch(features2['tfidf'].tolist(), DecisionTreeClassifier(), {\"criterion\": [\"gini\", \"entropy\"],\n",
    "#               \"min_samples_split\": [2, 10, 20],\n",
    "#               \"max_depth\": [None, 2, 5, 10],\n",
    "#               \"min_samples_leaf\": [1, 5, 10],\n",
    "#               \"max_leaf_nodes\": [None, 5, 10, 20]})\n",
    "tree_gridsearch(features3, DecisionTreeClassifier(), {\"criterion\": [\"gini\", \"entropy\"],\n",
    "              \"min_samples_split\": [2, 10, 20],\n",
    "              \"max_depth\": [None, 2, 5, 10],\n",
    "              \"min_samples_leaf\": [1, 5, 10],\n",
    "              \"max_leaf_nodes\": [None, 5, 10, 20]})"
   ]
  },
  {
   "cell_type": "code",
   "execution_count": 46,
   "metadata": {
    "collapsed": false
   },
   "outputs": [
    {
     "name": "stdout",
     "output_type": "stream",
     "text": [
      "Feature set 1: \n",
      "\n",
      "training time:  1.813 s\n",
      "\n",
      "predicting time:  0.195 s\n",
      "\n",
      "0.526315789474\n",
      "0.46963562753\n",
      "0.502024291498\n",
      "0.534412955466\n",
      "0.439024390244\n",
      "0.520325203252\n",
      "0.565040650407\n",
      "0.528455284553\n",
      "0.483739837398\n",
      "0.520325203252\n",
      "\n",
      "0.508929923307\n",
      "\n",
      "95% confidence interval: (0.48296810118076888, 0.5348917454338914)\n",
      "\n",
      "Predicted  course  faculty  student  All\n",
      "True                                    \n",
      "course         47       25      149  221\n",
      "faculty         8       91      148  247\n",
      "student        11       59      276  346\n",
      "All            66      175      573  814\n"
     ]
    },
    {
     "data": {
      "image/png": "[encoded data removed]",
      "text/plain": [
       "<matplotlib.figure.Figure at 0xed42978>"
      ]
     },
     "metadata": {},
     "output_type": "display_data"
    },
    {
     "name": "stdout",
     "output_type": "stream",
     "text": [
      "\n",
      "Feature set 2: \n",
      "\n",
      "training time:  18.039 s\n",
      "\n",
      "predicting time:  255.704 s\n",
      "\n",
      "0.87044534413\n",
      "0.886639676113\n",
      "0.862348178138\n",
      "0.866396761134\n",
      "0.865853658537\n",
      "0.853658536585\n",
      "0.918699186992\n",
      "0.837398373984\n",
      "0.882113821138\n",
      "0.837398373984\n",
      "\n",
      "0.868095191073\n",
      "\n",
      "95% confidence interval: (0.85083307080998116, 0.88535731133675544)\n",
      "\n",
      "Predicted  course  faculty  student  All\n",
      "True                                    \n",
      "course        181        9       31  221\n",
      "faculty        16      199       32  247\n",
      "student        18        9      319  346\n",
      "All           215      217      382  814\n"
     ]
    },
    {
     "data": {
      "image/png": "[encoded data removed]",
      "text/plain": [
       "<matplotlib.figure.Figure at 0xed42908>"
      ]
     },
     "metadata": {},
     "output_type": "display_data"
    },
    {
     "name": "stdout",
     "output_type": "stream",
     "text": [
      "\n",
      "Feature set 3: \n",
      "\n",
      "training time:  0.005 s\n",
      "\n",
      "predicting time:  0.248 s\n",
      "\n",
      "0.724696356275\n",
      "0.748987854251\n",
      "0.80971659919\n",
      "0.785425101215\n",
      "0.817073170732\n",
      "0.764227642276\n",
      "0.780487804878\n",
      "0.756097560976\n",
      "0.768292682927\n",
      "0.80487804878\n",
      "\n",
      "0.77598828215\n",
      "\n",
      "95% confidence interval: (0.75503356684335732, 0.7969429974566985)\n",
      "\n",
      "Predicted  course  faculty  student  All\n",
      "True                                    \n",
      "course        174        5       42  221\n",
      "faculty         8      182       57  247\n",
      "student        12       52      282  346\n",
      "All           194      239      381  814\n"
     ]
    },
    {
     "data": {
      "image/png": "[encoded data removed]",
      "text/plain": [
       "<matplotlib.figure.Figure at 0xf0a6470>"
      ]
     },
     "metadata": {},
     "output_type": "display_data"
    },
    {
     "name": "stdout",
     "output_type": "stream",
     "text": [
      "\n"
     ]
    }
   ],
   "source": [
    "from sklearn.tree import DecisionTreeClassifier\n",
    "def desTree(feature_set):\n",
    "    classifier = DecisionTreeClassifier(random_state=0, min_samples_split=10, max_leaf_nodes=20, criterion='gini', max_depth=5, min_samples_leaf=1)\n",
    "\n",
    "    t0 = time()\n",
    "    x_train, x_test  = train_test_split(feature_set, test_size = 0.33, random_state=42)\n",
    "    y_train, y_test = train_test_split(full_train_data['category'], test_size = 0.33, random_state=42)\n",
    "    t0 = time()\n",
    "    classifier.fit(x_train, y_train)\n",
    "    print 'training time: ', round(time()-t0, 3), 's'\n",
    "    print\n",
    "    t1 = time()\n",
    "    accuracies = cross_val_score(classifier, feature_set, full_train_data['category'], cv=10)\n",
    "    print 'predicting time: ', round(time()-t1, 3), 's'\n",
    "    print\n",
    "    for acc in accuracies:\n",
    "        print acc\n",
    "    print\n",
    "    print np.mean(accuracies)\n",
    "    print\n",
    "    print mean_confidence_interval(accuracies)\n",
    "    print\n",
    "\n",
    "    y_pred = classifier.fit(x_train, y_train).predict(x_test)\n",
    "    \n",
    "    conf = pd.crosstab(y_test, y_pred, rownames=['True'], colnames=['Predicted'], margins=True)\n",
    "    print conf\n",
    "    im = plt.imshow(conf.iloc[0:3, 0:3], cmap='binary', interpolation='None')\n",
    "    plt.xticks([0, 1, 2], ['course', 'faculty', 'student'])\n",
    "    plt.yticks([0, 1, 2], ['course', 'faculty', 'student'])\n",
    "    plt.show(im)\n",
    "    return accuracies, conf, im\n",
    "print \"Feature set 1: \"\n",
    "print\n",
    "desTree(features1)\n",
    "print\n",
    "print \"Feature set 2: \"\n",
    "print\n",
    "desTree(features2['tfidf'].tolist())\n",
    "print\n",
    "print \"Feature set 3: \"\n",
    "print\n",
    "desTree(features3)\n",
    "print"
   ]
  },
  {
   "cell_type": "markdown",
   "metadata": {},
   "source": [
    "The predicting strength of the first feature set is once again quite low. The classification of the second and third set of features is good in terms of accuracy but not as good as for example in the logistic regression model. The results for the tfidf-values are however better than those of the Knn-classifier, both in terms of accuracy and the correct predicting results as demonstrated in the confusion matrix."
   ]
  },
  {
   "cell_type": "markdown",
   "metadata": {},
   "source": [
    "### Random Forest"
   ]
  },
  {
   "cell_type": "markdown",
   "metadata": {},
   "source": [
    "A potential improvement to the decision tree is the use of an ensemble learning method. In this instance, the choice went out to the random forest ensemble that combines a number of decision trees and tends to correct their habit of overfitting the training set. A grid search will again define the optimal parameters for the first and third set of features."
   ]
  },
  {
   "cell_type": "code",
   "execution_count": 31,
   "metadata": {
    "collapsed": false
   },
   "outputs": [
    {
     "name": "stdout",
     "output_type": "stream",
     "text": [
      "\n",
      "GridSearchCV took 37.96 seconds for 96 candidate parameter settings.\n",
      "mean: 0.53091, std: 0.01840, params: {'min_samples_split': 2, 'max_leaf_nodes': 10, 'criterion': 'entropy', 'max_depth': 10}\n",
      "\n",
      "GridSearchCV took 209.67 seconds for 288 candidate parameter settings.\n",
      "mean: 0.79030, std: 0.01476, params: {'min_samples_split': 2, 'max_leaf_nodes': 20, 'criterion': 'gini', 'max_depth': 5, 'n_estimators': 50}\n"
     ]
    },
    {
     "data": {
      "text/plain": [
       "mean: 0.79030, std: 0.01476, params: {'min_samples_split': 2, 'max_leaf_nodes': 20, 'criterion': 'gini', 'max_depth': 5, 'n_estimators': 50}"
      ]
     },
     "execution_count": 31,
     "metadata": {},
     "output_type": "execute_result"
    }
   ],
   "source": [
    "from sklearn.ensemble import RandomForestClassifier\n",
    "def for_gridsearch(feature_set, clf, param_grid, cv=5):\n",
    "\n",
    "    grid_search = GridSearchCV(clf,\n",
    "                               param_grid=param_grid,\n",
    "                               cv=cv)\n",
    "    x_train, x_test  = train_test_split(feature_set, test_size = 0.33, random_state=42)\n",
    "    y_train, y_test = train_test_split(full_train_data['category'], test_size = 0.33, random_state=42)\n",
    "    start = time()\n",
    "    grid_search.fit(x_train, y_train)\n",
    "\n",
    "    print((\"\\nGridSearchCV took {:.2f} \"\n",
    "           \"seconds for {:d} candidate \"\n",
    "           \"parameter settings.\").format(time() - start,\n",
    "                len(grid_search.grid_scores_)))\n",
    "\n",
    "    print sorted(grid_search.grid_scores_, key=itemgetter(1), reverse=True)[1]\n",
    "    return sorted(grid_search.grid_scores_, key=itemgetter(1), reverse=True)[1]\n",
    "\n",
    "for_gridsearch(features1, RandomForestClassifier(), {\"criterion\": [\"gini\", \"entropy\"],\n",
    "              \"min_samples_split\": [2, 10, 20],\n",
    "              \"max_depth\": [None, 2, 5, 10],\n",
    "              \"max_leaf_nodes\": [None, 5, 10, 20]})\n",
    "# for_gridsearch(features2['tfidf'].tolist(), RandomForestClassifier(), {\"criterion\": [\"gini\", \"entropy\"],\n",
    "#               \"min_samples_split\": [2, 10, 20],\n",
    "#               \"max_depth\": [None, 2, 5, 10],\n",
    "#               \"min_samples_leaf\": [1, 5, 10],\n",
    "#               \"max_leaf_nodes\": [None, 5, 10, 20],})\n",
    "for_gridsearch(features3, RandomForestClassifier(), {\"criterion\": [\"gini\", \"entropy\"],\n",
    "              \"n_estimators\" : [5, 10, 20, 50],                               \n",
    "              \"min_samples_split\": [2, 10, 20],\n",
    "              \"max_depth\": [None, 2, 5, 10],\n",
    "              \"max_leaf_nodes\": [5, 10, 20] }) "
   ]
  },
  {
   "cell_type": "code",
   "execution_count": 47,
   "metadata": {
    "collapsed": false
   },
   "outputs": [
    {
     "name": "stdout",
     "output_type": "stream",
     "text": [
      "Feature set 1: \n",
      "\n",
      "training time:  0.369 s\n",
      "\n",
      "predicting time:  3.758 s\n",
      "\n",
      "0.51012145749\n",
      "0.465587044534\n",
      "0.502024291498\n",
      "0.53036437247\n",
      "0.467479674797\n",
      "0.556910569106\n",
      "0.532520325203\n",
      "0.565040650407\n",
      "0.49593495935\n",
      "0.487804878049\n",
      "\n",
      "0.51137882229\n",
      "\n",
      "95% confidence interval: (0.48675061239885742, 0.53600703218163726)\n",
      "\n",
      "Predicted  course  faculty  student  All\n",
      "True                                    \n",
      "course         61       10      150  221\n",
      "faculty         9       62      176  247\n",
      "student        20       23      303  346\n",
      "All            90       95      629  814\n"
     ]
    },
    {
     "data": {
      "image/png": "[encoded data removed]",
      "text/plain": [
       "<matplotlib.figure.Figure at 0x1303dc88>"
      ]
     },
     "metadata": {},
     "output_type": "display_data"
    },
    {
     "name": "stdout",
     "output_type": "stream",
     "text": [
      "\n",
      "Feature set 2: \n",
      "\n",
      "training time:  5.916 s\n",
      "\n",
      "predicting time:  75.636 s\n",
      "\n",
      "0.801619433198\n",
      "0.821862348178\n",
      "0.813765182186\n",
      "0.793522267206\n",
      "0.731707317073\n",
      "0.80081300813\n",
      "0.768292682927\n",
      "0.780487804878\n",
      "0.841463414634\n",
      "0.817073170732\n",
      "\n",
      "0.797060662914\n",
      "\n",
      "95% confidence interval: (0.77483597681378269, 0.81928534901486039)\n",
      "\n",
      "Predicted  course  faculty  student  All\n",
      "True                                    \n",
      "course        174        1       46  221\n",
      "faculty         1      141      105  247\n",
      "student         0        4      342  346\n",
      "All           175      146      493  814\n"
     ]
    },
    {
     "data": {
      "image/png": "[encoded data removed]",
      "text/plain": [
       "<matplotlib.figure.Figure at 0x1113b4a8>"
      ]
     },
     "metadata": {},
     "output_type": "display_data"
    },
    {
     "name": "stdout",
     "output_type": "stream",
     "text": [
      "\n",
      "Feature set 3: \n",
      "\n",
      "training time:  0.306 s\n",
      "\n",
      "predicting time:  3.398 s\n",
      "\n",
      "0.732793522267\n",
      "0.753036437247\n",
      "0.842105263158\n",
      "0.785425101215\n",
      "0.825203252033\n",
      "0.776422764228\n",
      "0.792682926829\n",
      "0.776422764228\n",
      "0.768292682927\n",
      "0.817073170732\n",
      "\n",
      "0.786945788486\n",
      "\n",
      "95% confidence interval: (0.76298067250569424, 0.81091090446675573)\n",
      "\n",
      "Predicted  course  faculty  student  All\n",
      "True                                    \n",
      "course        177        3       41  221\n",
      "faculty         9      179       59  247\n",
      "student        15       48      283  346\n",
      "All           201      230      383  814\n"
     ]
    },
    {
     "data": {
      "image/png": "[encoded data removed]",
      "text/plain": [
       "<matplotlib.figure.Figure at 0xe78ee10>"
      ]
     },
     "metadata": {},
     "output_type": "display_data"
    },
    {
     "name": "stdout",
     "output_type": "stream",
     "text": [
      "\n"
     ]
    }
   ],
   "source": [
    "from sklearn.ensemble import RandomForestClassifier\n",
    "def ranFor(feature_set):\n",
    "    classifier = RandomForestClassifier(n_estimators=50, min_samples_leaf=5, min_samples_split= 10, criterion='entropy', max_depth=None, max_leaf_nodes=20)\n",
    "    t0 = time()\n",
    "    x_train, x_test  = train_test_split(feature_set, test_size = 0.33, random_state=42)\n",
    "    y_train, y_test = train_test_split(full_train_data['category'], test_size = 0.33, random_state=42)\n",
    "    t0 = time()\n",
    "    classifier.fit(x_train, y_train)\n",
    "    print 'training time: ', round(time()-t0, 3), 's'\n",
    "    print\n",
    "    t1 = time()\n",
    "    accuracies = cross_val_score(classifier, feature_set, full_train_data['category'], cv=10)\n",
    "    print 'predicting time: ', round(time()-t1, 3), 's'\n",
    "    print\n",
    "    for acc in accuracies:\n",
    "        print acc\n",
    "    print\n",
    "    print np.mean(accuracies)\n",
    "    print\n",
    "    print mean_confidence_interval(accuracies)\n",
    "    print\n",
    "\n",
    "    y_pred = classifier.fit(x_train, y_train).predict(x_test)\n",
    "    \n",
    "    conf = pd.crosstab(y_test, y_pred, rownames=['True'], colnames=['Predicted'], margins=True)\n",
    "    print conf\n",
    "    im = plt.imshow(conf.iloc[0:3, 0:3], cmap='binary', interpolation='None')\n",
    "    plt.xticks([0, 1, 2], ['course', 'faculty', 'student'])\n",
    "    plt.yticks([0, 1, 2], ['course', 'faculty', 'student'])\n",
    "    plt.show(im)\n",
    "    return accuracies, conf, im\n",
    "print \"Feature set 1: \"\n",
    "print\n",
    "ranFor(features1)\n",
    "print\n",
    "print \"Feature set 2: \"\n",
    "print\n",
    "ranFor(features2['tfidf'].tolist())\n",
    "print\n",
    "print \"Feature set 3: \"\n",
    "print\n",
    "ranFor(features3)\n",
    "print"
   ]
  },
  {
   "cell_type": "markdown",
   "metadata": {},
   "source": [
    "The results for the random forrest are very similar to the ones of the decision tree and not really an improvement. The confusion matrix for the prediction of this second feature set indicates that the faculty webpages get confused quite a lot with the student webpages. This corresponds to the general conclusion of the dummy classifier that there is a tendency to predicting confusion towards the students class but it is remarkably high for the aforementioned model. It does not seems to be because of overfitting because using a forest of 200 trees returns similar results."
   ]
  },
  {
   "cell_type": "markdown",
   "metadata": {},
   "source": [
    "### Stochastic gradient descent"
   ]
  },
  {
   "cell_type": "markdown",
   "metadata": {},
   "source": [
    "This last classifier is again a discriminative learner. The stochastic gradient descent was included for its proven efficiency with textual data, according to the Scikit documentation. Again using a grid search on the first and third set of features, some optimal parameters will be defined. It is expected that this classifier will have similar results to the logistic regression classifier since they are both discriminative learners."
   ]
  },
  {
   "cell_type": "code",
   "execution_count": 33,
   "metadata": {
    "collapsed": false
   },
   "outputs": [
    {
     "name": "stdout",
     "output_type": "stream",
     "text": [
      "\n",
      "GridSearchCV took 22.93 seconds for 160 candidate parameter settings.\n",
      "SGDClassifier(alpha=0.0001, average=False, class_weight=None, epsilon=0.1,\n",
      "       eta0=0.0, fit_intercept=True, l1_ratio=0.15,\n",
      "       learning_rate='optimal', loss='log', n_iter=50, n_jobs=1,\n",
      "       penalty='l2', power_t=0.5, random_state=None, shuffle=True,\n",
      "       verbose=0, warm_start=False)\n",
      "\n",
      "GridSearchCV took 23.04 seconds for 160 candidate parameter settings.\n",
      "SGDClassifier(alpha=0.0001, average=False, class_weight=None, epsilon=0.1,\n",
      "       eta0=0.0, fit_intercept=True, l1_ratio=0.15,\n",
      "       learning_rate='optimal', loss='log', n_iter=50, n_jobs=1,\n",
      "       penalty='l1', power_t=0.5, random_state=None, shuffle=True,\n",
      "       verbose=0, warm_start=False)\n"
     ]
    },
    {
     "data": {
      "text/plain": [
       "mean: 0.76303, std: 0.01383, params: {'penalty': 'l2', 'loss': 'log', 'n_iter': 50, 'fit_intercept': True}"
      ]
     },
     "execution_count": 33,
     "metadata": {},
     "output_type": "execute_result"
    }
   ],
   "source": [
    "from sklearn.linear_model import SGDClassifier\n",
    "def sgd_gridsearch(feature_set, clf, param_grid, cv=5):\n",
    "\n",
    "    grid_search = GridSearchCV(clf,\n",
    "                               param_grid=param_grid,\n",
    "                               cv=cv)\n",
    "    x_train, x_test  = train_test_split(feature_set, test_size = 0.33, random_state=42)\n",
    "    y_train, y_test = train_test_split(full_train_data['category'], test_size = 0.33, random_state=42)\n",
    "    start = time()\n",
    "    grid_search.fit(x_train, y_train)\n",
    "\n",
    "    print((\"\\nGridSearchCV took {:.2f} \"\n",
    "           \"seconds for {:d} candidate \"\n",
    "           \"parameter settings.\").format(time() - start,\n",
    "                len(grid_search.grid_scores_)))\n",
    "    print grid_search.best_estimator_\n",
    "#     print sorted(grid_search.grid_scores_, key=itemgetter(1), reverse=True)[1]\n",
    "    return sorted(grid_search.grid_scores_, key=itemgetter(1), reverse=True)[1]\n",
    "\n",
    "sgd_gridsearch(features1, SGDClassifier(), {\"loss\": [\"hinge\", \"log\", \"modified_huber\", \"squared_hinge\", \"perceptron\"],\n",
    "              \"penalty\": [\"none\", \"l2\", \"l1\", \"elasticnet\"],\n",
    "              \"fit_intercept\": [False, True],\n",
    "              \"n_iter\": [1, 5, 20, 50]})\n",
    "# sgd_gridsearch(features2['tfidf'].tolist(), SGDClassifier(), {\"loss\": [\"hinge\", \"log\", \"modified_huber\", \"squared_hinge\", \"perceptron\"],\n",
    "#               \"penalty\": [\"none\", \"l2\", \"l1\", \"elasticnet\"],\n",
    "#               \"fit_intercept\": [False, True],\n",
    "#               \"n_iter\": [1, 5, 20, 50]})\n",
    "sgd_gridsearch(features3, SGDClassifier(), {\"loss\": [\"hinge\", \"log\", \"modified_huber\", \"squared_hinge\", \"perceptron\"],\n",
    "              \"penalty\": [\"none\", \"l2\", \"l1\", \"elasticnet\"],\n",
    "              \"fit_intercept\": [False, True],\n",
    "              \"n_iter\": [1, 5, 20, 50]})"
   ]
  },
  {
   "cell_type": "code",
   "execution_count": 48,
   "metadata": {
    "collapsed": false
   },
   "outputs": [
    {
     "name": "stdout",
     "output_type": "stream",
     "text": [
      "Feature set 1: \n",
      "\n",
      "training time:  0.028 s\n",
      "\n",
      "predicting time:  0.533 s\n",
      "\n",
      "0.465587044534\n",
      "0.461538461538\n",
      "0.481781376518\n",
      "0.368421052632\n",
      "0.471544715447\n",
      "0.5\n",
      "0.333333333333\n",
      "0.313008130081\n",
      "0.361788617886\n",
      "0.422764227642\n",
      "\n",
      "0.417976695961\n",
      "\n",
      "95% confidence interval: (0.36931171457189665, 0.46664167735068635)\n",
      "\n",
      "Predicted  course  faculty  student  All\n",
      "True                                    \n",
      "course         70      142        9  221\n",
      "faculty        19      211       17  247\n",
      "student        21      311       14  346\n",
      "All           110      664       40  814\n"
     ]
    },
    {
     "data": {
      "image/png": "[encoded data removed]",
      "text/plain": [
       "<matplotlib.figure.Figure at 0x12817f60>"
      ]
     },
     "metadata": {},
     "output_type": "display_data"
    },
    {
     "name": "stdout",
     "output_type": "stream",
     "text": [
      "\n",
      "Feature set 2: \n",
      "\n",
      "training time:  47.868 s\n",
      "\n",
      "predicting time:  630.737 s\n",
      "\n",
      "0.943319838057\n",
      "0.931174089069\n",
      "0.902834008097\n",
      "0.919028340081\n",
      "0.914634146341\n",
      "0.955284552846\n",
      "0.894308943089\n",
      "0.865853658537\n",
      "0.906504065041\n",
      "0.906504065041\n",
      "\n",
      "0.91394457062\n",
      "\n",
      "95% confidence interval: (0.89574152492385439, 0.93214761631573595)\n",
      "\n",
      "Predicted  course  faculty  student  All\n",
      "True                                    \n",
      "course        203        2       16  221\n",
      "faculty         1      222       24  247\n",
      "student         2        3      341  346\n",
      "All           206      227      381  814\n"
     ]
    },
    {
     "data": {
      "image/png": "[encoded data removed]",
      "text/plain": [
       "<matplotlib.figure.Figure at 0x12817f98>"
      ]
     },
     "metadata": {},
     "output_type": "display_data"
    },
    {
     "name": "stdout",
     "output_type": "stream",
     "text": [
      "\n",
      "Feature set 3: \n",
      "\n",
      "training time:  0.031 s\n",
      "\n",
      "predicting time:  0.5 s\n",
      "\n",
      "0.7004048583\n",
      "0.712550607287\n",
      "0.825910931174\n",
      "0.789473684211\n",
      "0.821138211382\n",
      "0.70325203252\n",
      "0.723577235772\n",
      "0.784552845528\n",
      "0.752032520325\n",
      "0.80081300813\n",
      "\n",
      "0.761370593463\n",
      "\n",
      "95% confidence interval: (0.72631401392728723, 0.79642717299875221)\n",
      "\n",
      "Predicted  course  faculty  student  All\n",
      "True                                    \n",
      "course        180        1       40  221\n",
      "faculty        16      187       44  247\n",
      "student        21       99      226  346\n",
      "All           217      287      310  814\n"
     ]
    },
    {
     "data": {
      "image/png": "[encoded data removed]",
      "text/plain": [
       "<matplotlib.figure.Figure at 0x127e6eb8>"
      ]
     },
     "metadata": {},
     "output_type": "display_data"
    },
    {
     "name": "stdout",
     "output_type": "stream",
     "text": [
      "\n"
     ]
    }
   ],
   "source": [
    "from sklearn.linear_model import SGDClassifier\n",
    "def sgd(feature_set):\n",
    "    sgd_clf = SGDClassifier(alpha=0.0001, average=False, class_weight=None, epsilon=0.1,\n",
    "       eta0=0.0, fit_intercept=True, l1_ratio=0.15,\n",
    "       learning_rate='optimal', loss='log', n_iter=20, n_jobs=1,\n",
    "       penalty='l1', power_t=0.5, random_state=None, shuffle=True,\n",
    "       verbose=0, warm_start=False)\n",
    "    t0 = time()\n",
    "    x_train, x_test  = train_test_split(feature_set, test_size = 0.33, random_state=42)\n",
    "    y_train, y_test = train_test_split(full_train_data['category'], test_size = 0.33, random_state=42)\n",
    "    t0 = time()\n",
    "    sgd_clf.fit(x_train, y_train)\n",
    "    print 'training time: ', round(time()-t0, 3), 's'\n",
    "    print\n",
    "    t1 = time()\n",
    "    accuracies = cross_val_score(sgd_clf, feature_set, full_train_data['category'], cv=10)\n",
    "    print 'predicting time: ', round(time()-t1, 3), 's'\n",
    "    print\n",
    "    for acc in accuracies:\n",
    "        print acc\n",
    "    print\n",
    "    print np.mean(accuracies)\n",
    "    print\n",
    "    print mean_confidence_interval(accuracies)\n",
    "    print\n",
    "\n",
    "    y_pred = sgd_clf.fit(x_train, y_train).predict(x_test)\n",
    "    \n",
    "    conf = pd.crosstab(y_test, y_pred, rownames=['True'], colnames=['Predicted'], margins=True)\n",
    "    print conf\n",
    "    im = plt.imshow(conf.iloc[0:3, 0:3], cmap='binary', interpolation='None')\n",
    "    plt.xticks([0, 1, 2], ['course', 'faculty', 'student'])\n",
    "    plt.yticks([0, 1, 2], ['course', 'faculty', 'student'])\n",
    "    plt.show(im)\n",
    "    return accuracies, conf, im\n",
    "print \"Feature set 1: \"\n",
    "print\n",
    "sgd(features1)\n",
    "print\n",
    "print \"Feature set 2: \"\n",
    "print\n",
    "sgd(features2['tfidf'].tolist())\n",
    "print\n",
    "print \"Feature set 3: \"\n",
    "print\n",
    "sgd(features3)\n",
    "print"
   ]
  },
  {
   "cell_type": "markdown",
   "metadata": {},
   "source": [
    "As expected, the stochastic gradient descent classifier performs very good on the tfidf-features. Although there is still some confusion between the faculty and the student class, this is limited to very acceptable terms. Furthermore, the mean accuracy of the 10-fold cross-validation results reach up to more than 93% and 95% of the future true means will be situated between an accuracy of 91.1% and 96.1%. These results are as expected closely related to but even higher than the ones of the logistic regression model for the tfidf-features. A next, more thorough evaluation will have to define the best model for predicting the test data."
   ]
  },
  {
   "cell_type": "markdown",
   "metadata": {},
   "source": [
    "## 3. Evaluation\n",
    "\n",
    "It appears that the models with the best predicting performance are the ones that use the tfidf-values as features and have a discriminative learner with custom parameters as their classifier. More concrete, this comes down to the simple logistic regression classifier and the more complex stochastic gradient descent classifier. The decision tree performed relatively good as well. In this concluding part, the results of these three classifiers will be put next to each other to determine which one is the best. After that, the model with the best predicting performance will be applied to the test data."
   ]
  },
  {
   "cell_type": "code",
   "execution_count": 49,
   "metadata": {
    "collapsed": false
   },
   "outputs": [
    {
     "name": "stdout",
     "output_type": "stream",
     "text": [
      "Baseline classifier model: \n",
      "training time:  0.001 s\n",
      "\n",
      "predicting time:  1.379 s\n",
      "\n",
      "0.36032388664\n",
      "0.400809716599\n",
      "0.372469635628\n",
      "0.380566801619\n",
      "0.373983739837\n",
      "0.29674796748\n",
      "0.39837398374\n",
      "0.325203252033\n",
      "0.378048780488\n",
      "0.382113821138\n",
      "\n",
      "0.36686415852\n",
      "\n",
      "95% confidence interval: (0.34366264324039103, 0.3900656737998644)\n",
      "\n",
      "Predicted  course  faculty  student  All\n",
      "True                                    \n",
      "course         50       61      110  221\n",
      "faculty        65       80      102  247\n",
      "student        73      102      171  346\n",
      "All           188      243      383  814\n"
     ]
    },
    {
     "data": {
      "image/png": "[encoded data removed]",
      "text/plain": [
       "<matplotlib.figure.Figure at 0xf24dfd0>"
      ]
     },
     "metadata": {},
     "output_type": "display_data"
    },
    {
     "name": "stdout",
     "output_type": "stream",
     "text": [
      "\n",
      "First model, tfidf-features with logistic regression classifier: \n",
      "\n",
      "training time:  1.018 s\n",
      "\n",
      "predicting time:  14.884 s\n",
      "\n",
      "0.939271255061\n",
      "0.927125506073\n",
      "0.886639676113\n",
      "0.898785425101\n",
      "0.906504065041\n",
      "0.943089430894\n",
      "0.910569105691\n",
      "0.89837398374\n",
      "0.910569105691\n",
      "0.882113821138\n",
      "\n",
      "0.910304137454\n",
      "\n",
      "95% confidence interval: (0.89552544406165335, 0.92508283084700671)\n",
      "\n",
      "Predicted  course  faculty  student  All\n",
      "True                                    \n",
      "course        195        5       21  221\n",
      "faculty         3      226       18  247\n",
      "student        10       11      325  346\n",
      "All           208      242      364  814\n"
     ]
    },
    {
     "data": {
      "image/png": "[encoded data removed]",
      "text/plain": [
       "<matplotlib.figure.Figure at 0x111709b0>"
      ]
     },
     "metadata": {},
     "output_type": "display_data"
    },
    {
     "name": "stdout",
     "output_type": "stream",
     "text": [
      "\n",
      "Second model, tfidf-features with decision tree classifier: \n",
      "\n",
      "training time:  17.191 s\n",
      "\n",
      "predicting time:  239.972 s\n",
      "\n",
      "0.87044534413\n",
      "0.886639676113\n",
      "0.862348178138\n",
      "0.866396761134\n",
      "0.865853658537\n",
      "0.853658536585\n",
      "0.918699186992\n",
      "0.837398373984\n",
      "0.882113821138\n",
      "0.837398373984\n",
      "\n",
      "0.868095191073\n",
      "\n",
      "95% confidence interval: (0.85083307080998116, 0.88535731133675544)\n",
      "\n",
      "Predicted  course  faculty  student  All\n",
      "True                                    \n",
      "course        181        9       31  221\n",
      "faculty        16      199       32  247\n",
      "student        18        9      319  346\n",
      "All           215      217      382  814\n"
     ]
    },
    {
     "data": {
      "image/png": "[encoded data removed]",
      "text/plain": [
       "<matplotlib.figure.Figure at 0x15967a58>"
      ]
     },
     "metadata": {},
     "output_type": "display_data"
    },
    {
     "name": "stdout",
     "output_type": "stream",
     "text": [
      "\n",
      "Third model, tfidf-features with stochastic gradient descent: \n",
      "training time:  46.862 s\n",
      "\n",
      "predicting time:  596.742 s\n",
      "\n",
      "0.935222672065\n",
      "0.943319838057\n",
      "0.894736842105\n",
      "0.914979757085\n",
      "0.910569105691\n",
      "0.951219512195\n",
      "0.918699186992\n",
      "0.861788617886\n",
      "0.886178861789\n",
      "0.910569105691\n",
      "\n",
      "0.912728349956\n",
      "\n",
      "95% confidence interval: (0.89336098209470516, 0.93209571781642342)\n",
      "\n",
      "Predicted  course  faculty  student  All\n",
      "True                                    \n",
      "course        204        4       13  221\n",
      "faculty         1      228       18  247\n",
      "student         2        4      340  346\n",
      "All           207      236      371  814\n"
     ]
    },
    {
     "data": {
      "image/png": "[encoded data removed]",
      "text/plain": [
       "<matplotlib.figure.Figure at 0x12dd1cf8>"
      ]
     },
     "metadata": {},
     "output_type": "display_data"
    }
   ],
   "source": [
    "print \"Baseline classifier model: \"\n",
    "baseline = dumClass(features2['tfidf'].tolist())\n",
    "print\n",
    "print \"First model, tfidf-features with logistic regression classifier: \"\n",
    "print\n",
    "log_model = logReg(features2['tfidf'].tolist())\n",
    "print\n",
    "print \"Second model, tfidf-features with decision tree classifier: \"\n",
    "print \n",
    "tree_model = desTree(features2['tfidf'].tolist())\n",
    "print\n",
    "print \"Third model, tfidf-features with stochastic gradient descent: \"\n",
    "sgd_model = sgd(features2['tfidf'].tolist())"
   ]
  },
  {
   "cell_type": "markdown",
   "metadata": {},
   "source": [
    "With a 95% confidence interval between 0.90 and 0.95, the stochastic gradient descent classifier performs slightly better than the other two classifiers, also in terms of minimising confusion. It is however the question whether this small difference is also a significant difference. A paired t-test will determine whether there is a real difference between the predicting accuracy of the logistic regression model, the dummy baseline, the decision tree model and the stochastic gradient descent model. For the two-tailed p-value, the common 0.05 value was taken as the benchmark for statistical significance."
   ]
  },
  {
   "cell_type": "code",
   "execution_count": 50,
   "metadata": {
    "collapsed": false
   },
   "outputs": [
    {
     "name": "stdout",
     "output_type": "stream",
     "text": [
      "Statistics for accuracies of logistic regression and baseline dummy classifier: \n",
      "t = 38.8378\n",
      "The two-paired p-value is 0.0000\n",
      "\n",
      "Statistics for accuracies of logistic regression and decision tree: \n",
      "t = 4.9887\n",
      "The two-paired p-value is 0.0008\n",
      "\n",
      "Statistics for accuracies of logistic regression and SGD: \n",
      "t = -0.3921\n",
      "The two-paired p-value is 0.7041\n",
      "\n",
      "Statistics for accuracies of decision tree and SGD: \n",
      "t = -4.6255\n",
      "The two-paired p-value is 0.0012\n"
     ]
    }
   ],
   "source": [
    "def Ttest(first, second):\n",
    "    tt = stats.ttest_rel(first, second)\n",
    "    print \"t = %.4f\" %tt[0]\n",
    "    print \"The two-paired p-value is %.4f\" %tt[1]\n",
    "print \"Statistics for accuracies of logistic regression and baseline dummy classifier: \"\n",
    "Ttest(log_model[0].tolist(),baseline[0].tolist())\n",
    "print\n",
    "print \"Statistics for accuracies of logistic regression and decision tree: \"\n",
    "Ttest(log_model[0].tolist(),tree_model[0].tolist())\n",
    "print\n",
    "print \"Statistics for accuracies of logistic regression and SGD: \"\n",
    "Ttest(log_model[0].tolist(),sgd_model[0].tolist())\n",
    "print\n",
    "print \"Statistics for accuracies of decision tree and SGD: \"\n",
    "Ttest(tree_model[0].tolist(),sgd_model[0].tolist())"
   ]
  },
  {
   "cell_type": "markdown",
   "metadata": {},
   "source": [
    "The differences in predicting performance between the logistic regression model and the dummy classifier, the logistic regression model and the decision tree model, the decision tree model and the SGD model are all statistically significant as demonstrated by their two-paired p-values. The difference between the mean accuracies for the logistic regression model and the SGD model is not significant. It seems like the simpler logistic regression model does not perform significantly worse than the more complex SGD model. A last option to improve one of these models is to combine the tfidf-features with the other feature sets."
   ]
  },
  {
   "cell_type": "code",
   "execution_count": 51,
   "metadata": {
    "collapsed": false
   },
   "outputs": [
    {
     "name": "stdout",
     "output_type": "stream",
     "text": [
      "First model, combined features with logistic regression classifier: \n",
      "\n",
      "training time:  5.849 s\n",
      "\n",
      "predicting time:  26.914 s\n",
      "\n",
      "0.906882591093\n",
      "0.874493927126\n",
      "0.87044534413\n",
      "0.894736842105\n",
      "0.886178861789\n",
      "0.894308943089\n",
      "0.890243902439\n",
      "0.886178861789\n",
      "0.886178861789\n",
      "0.890243902439\n",
      "\n",
      "0.887989203779\n",
      "\n",
      "95% confidence interval: (0.88063056936355666, 0.89534783819379815)\n",
      "\n",
      "Predicted  course  faculty  student  All\n",
      "True                                    \n",
      "course        201        4       16  221\n",
      "faculty         8      216       23  247\n",
      "student        13       15      318  346\n",
      "All           222      235      357  814\n"
     ]
    },
    {
     "data": {
      "image/png": "[encoded data removed]",
      "text/plain": [
       "<matplotlib.figure.Figure at 0x1302b748>"
      ]
     },
     "metadata": {},
     "output_type": "display_data"
    },
    {
     "name": "stdout",
     "output_type": "stream",
     "text": [
      "\n",
      "Second model, combined features with stochastic gradient descent\n",
      "training time:  45.691 s\n",
      "\n",
      "predicting time:  612.33 s\n",
      "\n",
      "0.736842105263\n",
      "0.765182186235\n",
      "0.825910931174\n",
      "0.740890688259\n",
      "0.857723577236\n",
      "0.910569105691\n",
      "0.80487804878\n",
      "0.80487804878\n",
      "0.772357723577\n",
      "0.841463414634\n",
      "\n",
      "0.806069582963\n",
      "\n",
      "95% confidence interval: (0.76682513819423503, 0.84531402773183695)\n",
      "\n",
      "Predicted  course  faculty  student  All\n",
      "True                                    \n",
      "course        189        9       23  221\n",
      "faculty         8      161       78  247\n",
      "student        16        5      325  346\n",
      "All           213      175      426  814\n"
     ]
    },
    {
     "data": {
      "image/png": "[encoded data removed]",
      "text/plain": [
       "<matplotlib.figure.Figure at 0x1314ab00>"
      ]
     },
     "metadata": {},
     "output_type": "display_data"
    }
   ],
   "source": [
    "print \"First model, combined features with logistic regression classifier: \"\n",
    "print\n",
    "combined = sp.hstack([features1, features2['tfidf'].tolist(), features3])\n",
    "new_log_model = logReg(combined)\n",
    "print\n",
    "# new_tree_model = desTree(combined)\n",
    "print \"Second model, combined features with stochastic gradient descent\"\n",
    "new_sgd_model = sgd(combined)"
   ]
  },
  {
   "cell_type": "markdown",
   "metadata": {},
   "source": [
    "Since none of the combined models seem to perform better, the best models in terms of predicting performance are still the SGD classifier and the logistic regression classifier with the tfidf-features. Because the difference between the logistic regression model and the SGD model is not statistically significant and because the former is faster, the choice went out to the logistic regression model. This means that the model with only the tfidf features and the logistic regression classifier will be used as the final predicting model."
   ]
  },
  {
   "cell_type": "markdown",
   "metadata": {},
   "source": [
    "### Predicting the test set"
   ]
  },
  {
   "cell_type": "markdown",
   "metadata": {
    "collapsed": true
   },
   "source": [
    "Code for loading the eventual test_data. Then use .predict(test_data) from scikit"
   ]
  },
  {
   "cell_type": "code",
   "execution_count": 52,
   "metadata": {
    "collapsed": false
   },
   "outputs": [
    {
     "name": "stdout",
     "output_type": "stream",
     "text": [
      "(1231, 1)\n"
     ]
    },
    {
     "data": {
      "text/html": [
       "<div>\n",
       "<table border=\"1\" class=\"dataframe\">\n",
       "  <thead>\n",
       "    <tr style=\"text-align: right;\">\n",
       "      <th></th>\n",
       "      <th>text</th>\n",
       "    </tr>\n",
       "  </thead>\n",
       "  <tbody>\n",
       "    <tr>\n",
       "      <th>0</th>\n",
       "      <td>\\nCS 556 Interactive Software Systems\\n\\n\\nInt...</td>\n",
       "    </tr>\n",
       "    <tr>\n",
       "      <th>1</th>\n",
       "      <td>Date: Mon, 25 Nov 1996 23:14:31 GMT\\nServer: N...</td>\n",
       "    </tr>\n",
       "    <tr>\n",
       "      <th>2</th>\n",
       "      <td>Date: Monday, 25-Nov-96 23:07:51 GMT\\nServer: ...</td>\n",
       "    </tr>\n",
       "    <tr>\n",
       "      <th>3</th>\n",
       "      <td>Date: Monday, 25-Nov-96 23:08:09 GMT\\nServer: ...</td>\n",
       "    </tr>\n",
       "    <tr>\n",
       "      <th>4</th>\n",
       "      <td>Date: Thu, 21 Nov 1996 20:37:51 GMT\\nServer: N...</td>\n",
       "    </tr>\n",
       "  </tbody>\n",
       "</table>\n",
       "</div>"
      ],
      "text/plain": [
       "                                                text\n",
       "0  \\nCS 556 Interactive Software Systems\\n\\n\\nInt...\n",
       "1  Date: Mon, 25 Nov 1996 23:14:31 GMT\\nServer: N...\n",
       "2  Date: Monday, 25-Nov-96 23:07:51 GMT\\nServer: ...\n",
       "3  Date: Monday, 25-Nov-96 23:08:09 GMT\\nServer: ...\n",
       "4  Date: Thu, 21 Nov 1996 20:37:51 GMT\\nServer: N..."
      ]
     },
     "execution_count": 52,
     "metadata": {},
     "output_type": "execute_result"
    }
   ],
   "source": [
    "def testData(path):\n",
    "    data = pd.DataFrame(index=[], columns=['text'])\n",
    "    ind = 0\n",
    "    for f in os.listdir(path+'\\\\'):  \n",
    "            content = open(path+'\\\\'+f).read()\n",
    "            content = BeautifulSoup(content).get_text()\n",
    "            data.loc[ind] = [content]\n",
    "            ind = ind + 1\n",
    "    return data\n",
    "# Load the data\n",
    "test_data = testData('C:\\Users\\Tim\\Documents\\KU Leuven\\Master digital humanities\\Introduction to data mining\\Project\\\\dm-project\\\\test')\n",
    "print test_data.shape\n",
    "# !! Don't re-fit on test data !! \n",
    "test_data.head()"
   ]
  },
  {
   "cell_type": "code",
   "execution_count": 53,
   "metadata": {
    "collapsed": false
   },
   "outputs": [
    {
     "data": {
      "text/html": [
       "<div>\n",
       "<table border=\"1\" class=\"dataframe\">\n",
       "  <thead>\n",
       "    <tr style=\"text-align: right;\">\n",
       "      <th></th>\n",
       "      <th>text</th>\n",
       "      <th>plainText</th>\n",
       "    </tr>\n",
       "  </thead>\n",
       "  <tbody>\n",
       "    <tr>\n",
       "      <th>0</th>\n",
       "      <td>\\nCS 556 Interactive Software Systems\\n\\n\\nInt...</td>\n",
       "      <td>CS 556 Interactive Software Systems Introducti...</td>\n",
       "    </tr>\n",
       "    <tr>\n",
       "      <th>1</th>\n",
       "      <td>Date: Mon, 25 Nov 1996 23:14:31 GMT\\nServer: N...</td>\n",
       "      <td>Date: Mon, 25 Nov 1996 23:14:31 GMT Server: NC...</td>\n",
       "    </tr>\n",
       "    <tr>\n",
       "      <th>2</th>\n",
       "      <td>Date: Monday, 25-Nov-96 23:07:51 GMT\\nServer: ...</td>\n",
       "      <td>Date: Monday, 25-Nov-96 23:07:51 GMT Server: N...</td>\n",
       "    </tr>\n",
       "    <tr>\n",
       "      <th>3</th>\n",
       "      <td>Date: Monday, 25-Nov-96 23:08:09 GMT\\nServer: ...</td>\n",
       "      <td>Date: Monday, 25-Nov-96 23:08:09 GMT Server: N...</td>\n",
       "    </tr>\n",
       "    <tr>\n",
       "      <th>4</th>\n",
       "      <td>Date: Thu, 21 Nov 1996 20:37:51 GMT\\nServer: N...</td>\n",
       "      <td>Date: Thu, 21 Nov 1996 20:37:51 GMT Server: NC...</td>\n",
       "    </tr>\n",
       "  </tbody>\n",
       "</table>\n",
       "</div>"
      ],
      "text/plain": [
       "                                                text  \\\n",
       "0  \\nCS 556 Interactive Software Systems\\n\\n\\nInt...   \n",
       "1  Date: Mon, 25 Nov 1996 23:14:31 GMT\\nServer: N...   \n",
       "2  Date: Monday, 25-Nov-96 23:07:51 GMT\\nServer: ...   \n",
       "3  Date: Monday, 25-Nov-96 23:08:09 GMT\\nServer: ...   \n",
       "4  Date: Thu, 21 Nov 1996 20:37:51 GMT\\nServer: N...   \n",
       "\n",
       "                                           plainText  \n",
       "0  CS 556 Interactive Software Systems Introducti...  \n",
       "1  Date: Mon, 25 Nov 1996 23:14:31 GMT Server: NC...  \n",
       "2  Date: Monday, 25-Nov-96 23:07:51 GMT Server: N...  \n",
       "3  Date: Monday, 25-Nov-96 23:08:09 GMT Server: N...  \n",
       "4  Date: Thu, 21 Nov 1996 20:37:51 GMT Server: NC...  "
      ]
     },
     "execution_count": 53,
     "metadata": {},
     "output_type": "execute_result"
    }
   ],
   "source": [
    "from sklearn import preprocessing\n",
    "full = []\n",
    "for item in test_data['text']:   \n",
    "    plain_text = BeautifulSoup(item).get_text()\n",
    "    full.append(plain_text)\n",
    "test_data['plainText'] = full\n",
    "stop = nltk.corpus.stopwords.words('english')\n",
    "for i in range(len(test_data['plainText'])):\n",
    "    fil = []\n",
    "    for word in test_data['plainText'][i].split():\n",
    "        if word.lower() not in stop:\n",
    "            fil.append(word)\n",
    "    test_data['plainText'][i] = \" \".join(fil)\n",
    "test_data.head()\n"
   ]
  },
  {
   "cell_type": "code",
   "execution_count": 54,
   "metadata": {
    "collapsed": false
   },
   "outputs": [],
   "source": [
    "X_new_counts = count_vect.transform(test_data['plainText'])\n",
    "X_new_tfidf = transformer.transform(X_new_counts)"
   ]
  },
  {
   "cell_type": "code",
   "execution_count": 56,
   "metadata": {
    "collapsed": false
   },
   "outputs": [
    {
     "name": "stdout",
     "output_type": "stream",
     "text": [
      "training time:  2.709 s\n",
      "\n"
     ]
    }
   ],
   "source": [
    "classifier = LogisticRegression(penalty='l1', random_state=10,dual=False, class_weight=\"balanced\", fit_intercept= False)\n",
    "t0 = time()\n",
    "classifier.fit(features2['tfidf'].tolist(), full_train_data['category'])\n",
    "print 'training time: ', round(time()-t0, 3), 's'\n",
    "print\n",
    "pred = classifier.predict(X_new_tfidf)\n",
    "test_data['predictions'] = pred"
   ]
  },
  {
   "cell_type": "code",
   "execution_count": 57,
   "metadata": {
    "collapsed": false
   },
   "outputs": [
    {
     "data": {
      "text/html": [
       "<div>\n",
       "<table border=\"1\" class=\"dataframe\">\n",
       "  <thead>\n",
       "    <tr style=\"text-align: right;\">\n",
       "      <th></th>\n",
       "      <th>text</th>\n",
       "      <th>plainText</th>\n",
       "      <th>predictions</th>\n",
       "    </tr>\n",
       "  </thead>\n",
       "  <tbody>\n",
       "    <tr>\n",
       "      <th>0</th>\n",
       "      <td>\\nCS 556 Interactive Software Systems\\n\\n\\nInt...</td>\n",
       "      <td>CS 556 Interactive Software Systems Introducti...</td>\n",
       "      <td>course</td>\n",
       "    </tr>\n",
       "    <tr>\n",
       "      <th>1</th>\n",
       "      <td>Date: Mon, 25 Nov 1996 23:14:31 GMT\\nServer: N...</td>\n",
       "      <td>Date: Mon, 25 Nov 1996 23:14:31 GMT Server: NC...</td>\n",
       "      <td>faculty</td>\n",
       "    </tr>\n",
       "    <tr>\n",
       "      <th>2</th>\n",
       "      <td>Date: Monday, 25-Nov-96 23:07:51 GMT\\nServer: ...</td>\n",
       "      <td>Date: Monday, 25-Nov-96 23:07:51 GMT Server: N...</td>\n",
       "      <td>faculty</td>\n",
       "    </tr>\n",
       "    <tr>\n",
       "      <th>3</th>\n",
       "      <td>Date: Monday, 25-Nov-96 23:08:09 GMT\\nServer: ...</td>\n",
       "      <td>Date: Monday, 25-Nov-96 23:08:09 GMT Server: N...</td>\n",
       "      <td>faculty</td>\n",
       "    </tr>\n",
       "    <tr>\n",
       "      <th>4</th>\n",
       "      <td>Date: Thu, 21 Nov 1996 20:37:51 GMT\\nServer: N...</td>\n",
       "      <td>Date: Thu, 21 Nov 1996 20:37:51 GMT Server: NC...</td>\n",
       "      <td>faculty</td>\n",
       "    </tr>\n",
       "    <tr>\n",
       "      <th>5</th>\n",
       "      <td>Date: Wed, 20 Nov 1996 23:20:59 GMT\\nServer: N...</td>\n",
       "      <td>Date: Wed, 20 Nov 1996 23:20:59 GMT Server: NC...</td>\n",
       "      <td>course</td>\n",
       "    </tr>\n",
       "    <tr>\n",
       "      <th>6</th>\n",
       "      <td>Date: Tue, 26 Nov 1996 16:22:19 GMT\\nServer: N...</td>\n",
       "      <td>Date: Tue, 26 Nov 1996 16:22:19 GMT Server: NC...</td>\n",
       "      <td>student</td>\n",
       "    </tr>\n",
       "    <tr>\n",
       "      <th>7</th>\n",
       "      <td>Date: Tue, 26 Nov 1996 18:53:51 GMT\\nServer: N...</td>\n",
       "      <td>Date: Tue, 26 Nov 1996 18:53:51 GMT Server: NC...</td>\n",
       "      <td>course</td>\n",
       "    </tr>\n",
       "    <tr>\n",
       "      <th>8</th>\n",
       "      <td>Date: Tue, 26 Nov 1996 18:53:35 GMT\\nServer: N...</td>\n",
       "      <td>Date: Tue, 26 Nov 1996 18:53:35 GMT Server: NC...</td>\n",
       "      <td>course</td>\n",
       "    </tr>\n",
       "    <tr>\n",
       "      <th>9</th>\n",
       "      <td>Date: Tue, 26 Nov 1996 18:53:26 GMT\\nServer: N...</td>\n",
       "      <td>Date: Tue, 26 Nov 1996 18:53:26 GMT Server: NC...</td>\n",
       "      <td>course</td>\n",
       "    </tr>\n",
       "    <tr>\n",
       "      <th>10</th>\n",
       "      <td>MIME-Version: 1.0\\nServer: WebSTAR/2.0 ID/3002...</td>\n",
       "      <td>MIME-Version: 1.0 Server: WebSTAR/2.0 ID/30027...</td>\n",
       "      <td>student</td>\n",
       "    </tr>\n",
       "    <tr>\n",
       "      <th>11</th>\n",
       "      <td>MIME-Version: 1.0\\nServer: CERN/3.0\\nDate: Tue...</td>\n",
       "      <td>MIME-Version: 1.0 Server: CERN/3.0 Date: Tuesd...</td>\n",
       "      <td>course</td>\n",
       "    </tr>\n",
       "    <tr>\n",
       "      <th>12</th>\n",
       "      <td>Date: Wed, 20 Nov 1996 23:02:14 GMT\\nServer: N...</td>\n",
       "      <td>Date: Wed, 20 Nov 1996 23:02:14 GMT Server: NC...</td>\n",
       "      <td>faculty</td>\n",
       "    </tr>\n",
       "    <tr>\n",
       "      <th>13</th>\n",
       "      <td>Date: Tue, 14 Jan 1997 23:07:49 GMT\\nServer: N...</td>\n",
       "      <td>Date: Tue, 14 Jan 1997 23:07:49 GMT Server: NC...</td>\n",
       "      <td>faculty</td>\n",
       "    </tr>\n",
       "    <tr>\n",
       "      <th>14</th>\n",
       "      <td>Date: Thursday, 21-Nov-96 23:25:39 GMT\\nServer...</td>\n",
       "      <td>Date: Thursday, 21-Nov-96 23:25:39 GMT Server:...</td>\n",
       "      <td>student</td>\n",
       "    </tr>\n",
       "    <tr>\n",
       "      <th>15</th>\n",
       "      <td>Date: Thu, 21 Nov 1996 20:48:56 GMT\\nServer: N...</td>\n",
       "      <td>Date: Thu, 21 Nov 1996 20:48:56 GMT Server: NC...</td>\n",
       "      <td>faculty</td>\n",
       "    </tr>\n",
       "    <tr>\n",
       "      <th>16</th>\n",
       "      <td>MIME-Version: 1.0\\nServer: CERN/3.0\\nDate: Mon...</td>\n",
       "      <td>MIME-Version: 1.0 Server: CERN/3.0 Date: Monda...</td>\n",
       "      <td>faculty</td>\n",
       "    </tr>\n",
       "    <tr>\n",
       "      <th>17</th>\n",
       "      <td>Date: Wed, 20 Nov 1996 22:32:27 GMT\\nServer: N...</td>\n",
       "      <td>Date: Wed, 20 Nov 1996 22:32:27 GMT Server: NC...</td>\n",
       "      <td>course</td>\n",
       "    </tr>\n",
       "    <tr>\n",
       "      <th>18</th>\n",
       "      <td>Date: Wed, 20 Nov 1996 22:32:59 GMT\\nServer: N...</td>\n",
       "      <td>Date: Wed, 20 Nov 1996 22:32:59 GMT Server: NC...</td>\n",
       "      <td>course</td>\n",
       "    </tr>\n",
       "    <tr>\n",
       "      <th>19</th>\n",
       "      <td>Date: Wed, 20 Nov 1996 22:32:53 GMT\\nServer: N...</td>\n",
       "      <td>Date: Wed, 20 Nov 1996 22:32:53 GMT Server: NC...</td>\n",
       "      <td>course</td>\n",
       "    </tr>\n",
       "    <tr>\n",
       "      <th>20</th>\n",
       "      <td>Date: Tue, 14 Jan 1997 22:39:43 GMT\\nServer: N...</td>\n",
       "      <td>Date: Tue, 14 Jan 1997 22:39:43 GMT Server: NC...</td>\n",
       "      <td>faculty</td>\n",
       "    </tr>\n",
       "    <tr>\n",
       "      <th>21</th>\n",
       "      <td>Date: Tue, 14 Jan 1997 20:28:00 GMT\\nServer: N...</td>\n",
       "      <td>Date: Tue, 14 Jan 1997 20:28:00 GMT Server: NC...</td>\n",
       "      <td>student</td>\n",
       "    </tr>\n",
       "    <tr>\n",
       "      <th>22</th>\n",
       "      <td>Date: Wed, 20 Nov 1996 21:45:11 GMT\\nServer: N...</td>\n",
       "      <td>Date: Wed, 20 Nov 1996 21:45:11 GMT Server: NC...</td>\n",
       "      <td>course</td>\n",
       "    </tr>\n",
       "    <tr>\n",
       "      <th>23</th>\n",
       "      <td>Date: Wed, 15 Jan 1997 01:46:33 GMT\\nServer: N...</td>\n",
       "      <td>Date: Wed, 15 Jan 1997 01:46:33 GMT Server: NC...</td>\n",
       "      <td>course</td>\n",
       "    </tr>\n",
       "    <tr>\n",
       "      <th>24</th>\n",
       "      <td>MIME-Version: 1.0\\nServer: CERN/3.0\\nDate: Sun...</td>\n",
       "      <td>MIME-Version: 1.0 Server: CERN/3.0 Date: Sunda...</td>\n",
       "      <td>course</td>\n",
       "    </tr>\n",
       "    <tr>\n",
       "      <th>25</th>\n",
       "      <td>MIME-Version: 1.0\\nServer: CERN/3.0\\nDate: Sun...</td>\n",
       "      <td>MIME-Version: 1.0 Server: CERN/3.0 Date: Sunda...</td>\n",
       "      <td>course</td>\n",
       "    </tr>\n",
       "    <tr>\n",
       "      <th>26</th>\n",
       "      <td>Server: Netscape-Enterprise/2.0a\\nDate: Tue, 2...</td>\n",
       "      <td>Server: Netscape-Enterprise/2.0a Date: Tue, 26...</td>\n",
       "      <td>course</td>\n",
       "    </tr>\n",
       "    <tr>\n",
       "      <th>27</th>\n",
       "      <td>Server: Netscape-Enterprise/2.0a\\nDate: Tue, 2...</td>\n",
       "      <td>Server: Netscape-Enterprise/2.0a Date: Tue, 26...</td>\n",
       "      <td>course</td>\n",
       "    </tr>\n",
       "    <tr>\n",
       "      <th>28</th>\n",
       "      <td>Server: Netscape-Communications/1.1\\nDate: Mon...</td>\n",
       "      <td>Server: Netscape-Communications/1.1 Date: Mond...</td>\n",
       "      <td>faculty</td>\n",
       "    </tr>\n",
       "    <tr>\n",
       "      <th>29</th>\n",
       "      <td>Server: Netscape-Communications/1.1\\nDate: Mon...</td>\n",
       "      <td>Server: Netscape-Communications/1.1 Date: Mond...</td>\n",
       "      <td>student</td>\n",
       "    </tr>\n",
       "    <tr>\n",
       "      <th>...</th>\n",
       "      <td>...</td>\n",
       "      <td>...</td>\n",
       "      <td>...</td>\n",
       "    </tr>\n",
       "    <tr>\n",
       "      <th>170</th>\n",
       "      <td>MIME-Version: 1.0\\nServer: WebSTAR/1.3.1 ID/19...</td>\n",
       "      <td>MIME-Version: 1.0 Server: WebSTAR/1.3.1 ID/197...</td>\n",
       "      <td>course</td>\n",
       "    </tr>\n",
       "    <tr>\n",
       "      <th>171</th>\n",
       "      <td>MIME-Version: 1.0\\nServer: WebSTAR/1.3.1 ID/19...</td>\n",
       "      <td>MIME-Version: 1.0 Server: WebSTAR/1.3.1 ID/197...</td>\n",
       "      <td>course</td>\n",
       "    </tr>\n",
       "    <tr>\n",
       "      <th>172</th>\n",
       "      <td>MIME-Version: 1.0\\nServer: WebSTAR/1.3.1 ID/19...</td>\n",
       "      <td>MIME-Version: 1.0 Server: WebSTAR/1.3.1 ID/197...</td>\n",
       "      <td>course</td>\n",
       "    </tr>\n",
       "    <tr>\n",
       "      <th>173</th>\n",
       "      <td>MIME-Version: 1.0\\nServer: WebSTAR/1.3.1 ID/19...</td>\n",
       "      <td>MIME-Version: 1.0 Server: WebSTAR/1.3.1 ID/197...</td>\n",
       "      <td>course</td>\n",
       "    </tr>\n",
       "    <tr>\n",
       "      <th>174</th>\n",
       "      <td>MIME-Version: 1.0\\nServer: WebSTAR/1.3.1 ID/19...</td>\n",
       "      <td>MIME-Version: 1.0 Server: WebSTAR/1.3.1 ID/197...</td>\n",
       "      <td>course</td>\n",
       "    </tr>\n",
       "    <tr>\n",
       "      <th>175</th>\n",
       "      <td>MIME-Version: 1.0\\nServer: WebSTAR/1.3.1 ID/19...</td>\n",
       "      <td>MIME-Version: 1.0 Server: WebSTAR/1.3.1 ID/197...</td>\n",
       "      <td>course</td>\n",
       "    </tr>\n",
       "    <tr>\n",
       "      <th>176</th>\n",
       "      <td>MIME-Version: 1.0\\nServer: WebSTAR/1.3.1 ID/19...</td>\n",
       "      <td>MIME-Version: 1.0 Server: WebSTAR/1.3.1 ID/197...</td>\n",
       "      <td>course</td>\n",
       "    </tr>\n",
       "    <tr>\n",
       "      <th>177</th>\n",
       "      <td>MIME-Version: 1.0\\nServer: WebSTAR/1.3.1 ID/19...</td>\n",
       "      <td>MIME-Version: 1.0 Server: WebSTAR/1.3.1 ID/197...</td>\n",
       "      <td>course</td>\n",
       "    </tr>\n",
       "    <tr>\n",
       "      <th>178</th>\n",
       "      <td>MIME-Version: 1.0\\nServer: WebSTAR/1.3.1 ID/19...</td>\n",
       "      <td>MIME-Version: 1.0 Server: WebSTAR/1.3.1 ID/197...</td>\n",
       "      <td>course</td>\n",
       "    </tr>\n",
       "    <tr>\n",
       "      <th>179</th>\n",
       "      <td>MIME-Version: 1.0\\nServer: WebSTAR/1.3.1 ID/19...</td>\n",
       "      <td>MIME-Version: 1.0 Server: WebSTAR/1.3.1 ID/197...</td>\n",
       "      <td>course</td>\n",
       "    </tr>\n",
       "    <tr>\n",
       "      <th>180</th>\n",
       "      <td>Date: Thu, 21 Nov 1996 22:58:38 GMT\\nServer: N...</td>\n",
       "      <td>Date: Thu, 21 Nov 1996 22:58:38 GMT Server: NC...</td>\n",
       "      <td>student</td>\n",
       "    </tr>\n",
       "    <tr>\n",
       "      <th>181</th>\n",
       "      <td>Date: Thu, 21 Nov 1996 20:11:47 GMT\\nServer: N...</td>\n",
       "      <td>Date: Thu, 21 Nov 1996 20:11:47 GMT Server: NC...</td>\n",
       "      <td>faculty</td>\n",
       "    </tr>\n",
       "    <tr>\n",
       "      <th>182</th>\n",
       "      <td>Date: Thu, 21 Nov 1996 23:08:27 GMT\\nServer: N...</td>\n",
       "      <td>Date: Thu, 21 Nov 1996 23:08:27 GMT Server: NC...</td>\n",
       "      <td>faculty</td>\n",
       "    </tr>\n",
       "    <tr>\n",
       "      <th>183</th>\n",
       "      <td>Date: Thu, 21 Nov 1996 20:11:34 GMT\\nServer: N...</td>\n",
       "      <td>Date: Thu, 21 Nov 1996 20:11:34 GMT Server: NC...</td>\n",
       "      <td>faculty</td>\n",
       "    </tr>\n",
       "    <tr>\n",
       "      <th>184</th>\n",
       "      <td>Date: Thu, 21 Nov 1996 23:08:48 GMT\\nServer: N...</td>\n",
       "      <td>Date: Thu, 21 Nov 1996 23:08:48 GMT Server: NC...</td>\n",
       "      <td>student</td>\n",
       "    </tr>\n",
       "    <tr>\n",
       "      <th>185</th>\n",
       "      <td>Date: Thu, 21 Nov 1996 22:59:50 GMT\\nServer: N...</td>\n",
       "      <td>Date: Thu, 21 Nov 1996 22:59:50 GMT Server: NC...</td>\n",
       "      <td>student</td>\n",
       "    </tr>\n",
       "    <tr>\n",
       "      <th>186</th>\n",
       "      <td>Date: Thu, 21 Nov 1996 23:09:21 GMT\\nServer: N...</td>\n",
       "      <td>Date: Thu, 21 Nov 1996 23:09:21 GMT Server: NC...</td>\n",
       "      <td>student</td>\n",
       "    </tr>\n",
       "    <tr>\n",
       "      <th>187</th>\n",
       "      <td>Date: Thu, 21 Nov 1996 20:07:18 GMT\\nServer: N...</td>\n",
       "      <td>Date: Thu, 21 Nov 1996 20:07:18 GMT Server: NC...</td>\n",
       "      <td>student</td>\n",
       "    </tr>\n",
       "    <tr>\n",
       "      <th>188</th>\n",
       "      <td>Date: Thu, 21 Nov 1996 23:07:48 GMT\\nServer: N...</td>\n",
       "      <td>Date: Thu, 21 Nov 1996 23:07:48 GMT Server: NC...</td>\n",
       "      <td>student</td>\n",
       "    </tr>\n",
       "    <tr>\n",
       "      <th>189</th>\n",
       "      <td>Date: Thu, 21 Nov 1996 23:10:35 GMT\\nServer: N...</td>\n",
       "      <td>Date: Thu, 21 Nov 1996 23:10:35 GMT Server: NC...</td>\n",
       "      <td>student</td>\n",
       "    </tr>\n",
       "    <tr>\n",
       "      <th>190</th>\n",
       "      <td>Date: Thu, 21 Nov 1996 20:07:47 GMT\\nServer: N...</td>\n",
       "      <td>Date: Thu, 21 Nov 1996 20:07:47 GMT Server: NC...</td>\n",
       "      <td>student</td>\n",
       "    </tr>\n",
       "    <tr>\n",
       "      <th>191</th>\n",
       "      <td>Date: Thu, 21 Nov 1996 23:07:53 GMT\\nServer: N...</td>\n",
       "      <td>Date: Thu, 21 Nov 1996 23:07:53 GMT Server: NC...</td>\n",
       "      <td>student</td>\n",
       "    </tr>\n",
       "    <tr>\n",
       "      <th>192</th>\n",
       "      <td>Date: Thu, 21 Nov 1996 20:09:52 GMT\\nServer: N...</td>\n",
       "      <td>Date: Thu, 21 Nov 1996 20:09:52 GMT Server: NC...</td>\n",
       "      <td>faculty</td>\n",
       "    </tr>\n",
       "    <tr>\n",
       "      <th>193</th>\n",
       "      <td>Date: Thu, 21 Nov 1996 23:02:38 GMT\\nServer: N...</td>\n",
       "      <td>Date: Thu, 21 Nov 1996 23:02:38 GMT Server: NC...</td>\n",
       "      <td>student</td>\n",
       "    </tr>\n",
       "    <tr>\n",
       "      <th>194</th>\n",
       "      <td>Date: Thu, 21 Nov 1996 23:08:18 GMT\\nServer: N...</td>\n",
       "      <td>Date: Thu, 21 Nov 1996 23:08:18 GMT Server: NC...</td>\n",
       "      <td>faculty</td>\n",
       "    </tr>\n",
       "    <tr>\n",
       "      <th>195</th>\n",
       "      <td>Date: Thu, 21 Nov 1996 23:04:29 GMT\\nServer: N...</td>\n",
       "      <td>Date: Thu, 21 Nov 1996 23:04:29 GMT Server: NC...</td>\n",
       "      <td>student</td>\n",
       "    </tr>\n",
       "    <tr>\n",
       "      <th>196</th>\n",
       "      <td>Date: Thu, 21 Nov 1996 23:05:17 GMT\\nServer: N...</td>\n",
       "      <td>Date: Thu, 21 Nov 1996 23:05:17 GMT Server: NC...</td>\n",
       "      <td>student</td>\n",
       "    </tr>\n",
       "    <tr>\n",
       "      <th>197</th>\n",
       "      <td>Date: Thu, 21 Nov 1996 23:10:40 GMT\\nServer: N...</td>\n",
       "      <td>Date: Thu, 21 Nov 1996 23:10:40 GMT Server: NC...</td>\n",
       "      <td>student</td>\n",
       "    </tr>\n",
       "    <tr>\n",
       "      <th>198</th>\n",
       "      <td>Date: Thu, 21 Nov 1996 20:09:20 GMT\\nServer: N...</td>\n",
       "      <td>Date: Thu, 21 Nov 1996 20:09:20 GMT Server: NC...</td>\n",
       "      <td>faculty</td>\n",
       "    </tr>\n",
       "    <tr>\n",
       "      <th>199</th>\n",
       "      <td>Date: Thu, 21 Nov 1996 23:00:32 GMT\\nServer: N...</td>\n",
       "      <td>Date: Thu, 21 Nov 1996 23:00:32 GMT Server: NC...</td>\n",
       "      <td>student</td>\n",
       "    </tr>\n",
       "  </tbody>\n",
       "</table>\n",
       "<p>200 rows × 3 columns</p>\n",
       "</div>"
      ],
      "text/plain": [
       "                                                  text  \\\n",
       "0    \\nCS 556 Interactive Software Systems\\n\\n\\nInt...   \n",
       "1    Date: Mon, 25 Nov 1996 23:14:31 GMT\\nServer: N...   \n",
       "2    Date: Monday, 25-Nov-96 23:07:51 GMT\\nServer: ...   \n",
       "3    Date: Monday, 25-Nov-96 23:08:09 GMT\\nServer: ...   \n",
       "4    Date: Thu, 21 Nov 1996 20:37:51 GMT\\nServer: N...   \n",
       "5    Date: Wed, 20 Nov 1996 23:20:59 GMT\\nServer: N...   \n",
       "6    Date: Tue, 26 Nov 1996 16:22:19 GMT\\nServer: N...   \n",
       "7    Date: Tue, 26 Nov 1996 18:53:51 GMT\\nServer: N...   \n",
       "8    Date: Tue, 26 Nov 1996 18:53:35 GMT\\nServer: N...   \n",
       "9    Date: Tue, 26 Nov 1996 18:53:26 GMT\\nServer: N...   \n",
       "10   MIME-Version: 1.0\\nServer: WebSTAR/2.0 ID/3002...   \n",
       "11   MIME-Version: 1.0\\nServer: CERN/3.0\\nDate: Tue...   \n",
       "12   Date: Wed, 20 Nov 1996 23:02:14 GMT\\nServer: N...   \n",
       "13   Date: Tue, 14 Jan 1997 23:07:49 GMT\\nServer: N...   \n",
       "14   Date: Thursday, 21-Nov-96 23:25:39 GMT\\nServer...   \n",
       "15   Date: Thu, 21 Nov 1996 20:48:56 GMT\\nServer: N...   \n",
       "16   MIME-Version: 1.0\\nServer: CERN/3.0\\nDate: Mon...   \n",
       "17   Date: Wed, 20 Nov 1996 22:32:27 GMT\\nServer: N...   \n",
       "18   Date: Wed, 20 Nov 1996 22:32:59 GMT\\nServer: N...   \n",
       "19   Date: Wed, 20 Nov 1996 22:32:53 GMT\\nServer: N...   \n",
       "20   Date: Tue, 14 Jan 1997 22:39:43 GMT\\nServer: N...   \n",
       "21   Date: Tue, 14 Jan 1997 20:28:00 GMT\\nServer: N...   \n",
       "22   Date: Wed, 20 Nov 1996 21:45:11 GMT\\nServer: N...   \n",
       "23   Date: Wed, 15 Jan 1997 01:46:33 GMT\\nServer: N...   \n",
       "24   MIME-Version: 1.0\\nServer: CERN/3.0\\nDate: Sun...   \n",
       "25   MIME-Version: 1.0\\nServer: CERN/3.0\\nDate: Sun...   \n",
       "26   Server: Netscape-Enterprise/2.0a\\nDate: Tue, 2...   \n",
       "27   Server: Netscape-Enterprise/2.0a\\nDate: Tue, 2...   \n",
       "28   Server: Netscape-Communications/1.1\\nDate: Mon...   \n",
       "29   Server: Netscape-Communications/1.1\\nDate: Mon...   \n",
       "..                                                 ...   \n",
       "170  MIME-Version: 1.0\\nServer: WebSTAR/1.3.1 ID/19...   \n",
       "171  MIME-Version: 1.0\\nServer: WebSTAR/1.3.1 ID/19...   \n",
       "172  MIME-Version: 1.0\\nServer: WebSTAR/1.3.1 ID/19...   \n",
       "173  MIME-Version: 1.0\\nServer: WebSTAR/1.3.1 ID/19...   \n",
       "174  MIME-Version: 1.0\\nServer: WebSTAR/1.3.1 ID/19...   \n",
       "175  MIME-Version: 1.0\\nServer: WebSTAR/1.3.1 ID/19...   \n",
       "176  MIME-Version: 1.0\\nServer: WebSTAR/1.3.1 ID/19...   \n",
       "177  MIME-Version: 1.0\\nServer: WebSTAR/1.3.1 ID/19...   \n",
       "178  MIME-Version: 1.0\\nServer: WebSTAR/1.3.1 ID/19...   \n",
       "179  MIME-Version: 1.0\\nServer: WebSTAR/1.3.1 ID/19...   \n",
       "180  Date: Thu, 21 Nov 1996 22:58:38 GMT\\nServer: N...   \n",
       "181  Date: Thu, 21 Nov 1996 20:11:47 GMT\\nServer: N...   \n",
       "182  Date: Thu, 21 Nov 1996 23:08:27 GMT\\nServer: N...   \n",
       "183  Date: Thu, 21 Nov 1996 20:11:34 GMT\\nServer: N...   \n",
       "184  Date: Thu, 21 Nov 1996 23:08:48 GMT\\nServer: N...   \n",
       "185  Date: Thu, 21 Nov 1996 22:59:50 GMT\\nServer: N...   \n",
       "186  Date: Thu, 21 Nov 1996 23:09:21 GMT\\nServer: N...   \n",
       "187  Date: Thu, 21 Nov 1996 20:07:18 GMT\\nServer: N...   \n",
       "188  Date: Thu, 21 Nov 1996 23:07:48 GMT\\nServer: N...   \n",
       "189  Date: Thu, 21 Nov 1996 23:10:35 GMT\\nServer: N...   \n",
       "190  Date: Thu, 21 Nov 1996 20:07:47 GMT\\nServer: N...   \n",
       "191  Date: Thu, 21 Nov 1996 23:07:53 GMT\\nServer: N...   \n",
       "192  Date: Thu, 21 Nov 1996 20:09:52 GMT\\nServer: N...   \n",
       "193  Date: Thu, 21 Nov 1996 23:02:38 GMT\\nServer: N...   \n",
       "194  Date: Thu, 21 Nov 1996 23:08:18 GMT\\nServer: N...   \n",
       "195  Date: Thu, 21 Nov 1996 23:04:29 GMT\\nServer: N...   \n",
       "196  Date: Thu, 21 Nov 1996 23:05:17 GMT\\nServer: N...   \n",
       "197  Date: Thu, 21 Nov 1996 23:10:40 GMT\\nServer: N...   \n",
       "198  Date: Thu, 21 Nov 1996 20:09:20 GMT\\nServer: N...   \n",
       "199  Date: Thu, 21 Nov 1996 23:00:32 GMT\\nServer: N...   \n",
       "\n",
       "                                             plainText predictions  \n",
       "0    CS 556 Interactive Software Systems Introducti...      course  \n",
       "1    Date: Mon, 25 Nov 1996 23:14:31 GMT Server: NC...     faculty  \n",
       "2    Date: Monday, 25-Nov-96 23:07:51 GMT Server: N...     faculty  \n",
       "3    Date: Monday, 25-Nov-96 23:08:09 GMT Server: N...     faculty  \n",
       "4    Date: Thu, 21 Nov 1996 20:37:51 GMT Server: NC...     faculty  \n",
       "5    Date: Wed, 20 Nov 1996 23:20:59 GMT Server: NC...      course  \n",
       "6    Date: Tue, 26 Nov 1996 16:22:19 GMT Server: NC...     student  \n",
       "7    Date: Tue, 26 Nov 1996 18:53:51 GMT Server: NC...      course  \n",
       "8    Date: Tue, 26 Nov 1996 18:53:35 GMT Server: NC...      course  \n",
       "9    Date: Tue, 26 Nov 1996 18:53:26 GMT Server: NC...      course  \n",
       "10   MIME-Version: 1.0 Server: WebSTAR/2.0 ID/30027...     student  \n",
       "11   MIME-Version: 1.0 Server: CERN/3.0 Date: Tuesd...      course  \n",
       "12   Date: Wed, 20 Nov 1996 23:02:14 GMT Server: NC...     faculty  \n",
       "13   Date: Tue, 14 Jan 1997 23:07:49 GMT Server: NC...     faculty  \n",
       "14   Date: Thursday, 21-Nov-96 23:25:39 GMT Server:...     student  \n",
       "15   Date: Thu, 21 Nov 1996 20:48:56 GMT Server: NC...     faculty  \n",
       "16   MIME-Version: 1.0 Server: CERN/3.0 Date: Monda...     faculty  \n",
       "17   Date: Wed, 20 Nov 1996 22:32:27 GMT Server: NC...      course  \n",
       "18   Date: Wed, 20 Nov 1996 22:32:59 GMT Server: NC...      course  \n",
       "19   Date: Wed, 20 Nov 1996 22:32:53 GMT Server: NC...      course  \n",
       "20   Date: Tue, 14 Jan 1997 22:39:43 GMT Server: NC...     faculty  \n",
       "21   Date: Tue, 14 Jan 1997 20:28:00 GMT Server: NC...     student  \n",
       "22   Date: Wed, 20 Nov 1996 21:45:11 GMT Server: NC...      course  \n",
       "23   Date: Wed, 15 Jan 1997 01:46:33 GMT Server: NC...      course  \n",
       "24   MIME-Version: 1.0 Server: CERN/3.0 Date: Sunda...      course  \n",
       "25   MIME-Version: 1.0 Server: CERN/3.0 Date: Sunda...      course  \n",
       "26   Server: Netscape-Enterprise/2.0a Date: Tue, 26...      course  \n",
       "27   Server: Netscape-Enterprise/2.0a Date: Tue, 26...      course  \n",
       "28   Server: Netscape-Communications/1.1 Date: Mond...     faculty  \n",
       "29   Server: Netscape-Communications/1.1 Date: Mond...     student  \n",
       "..                                                 ...         ...  \n",
       "170  MIME-Version: 1.0 Server: WebSTAR/1.3.1 ID/197...      course  \n",
       "171  MIME-Version: 1.0 Server: WebSTAR/1.3.1 ID/197...      course  \n",
       "172  MIME-Version: 1.0 Server: WebSTAR/1.3.1 ID/197...      course  \n",
       "173  MIME-Version: 1.0 Server: WebSTAR/1.3.1 ID/197...      course  \n",
       "174  MIME-Version: 1.0 Server: WebSTAR/1.3.1 ID/197...      course  \n",
       "175  MIME-Version: 1.0 Server: WebSTAR/1.3.1 ID/197...      course  \n",
       "176  MIME-Version: 1.0 Server: WebSTAR/1.3.1 ID/197...      course  \n",
       "177  MIME-Version: 1.0 Server: WebSTAR/1.3.1 ID/197...      course  \n",
       "178  MIME-Version: 1.0 Server: WebSTAR/1.3.1 ID/197...      course  \n",
       "179  MIME-Version: 1.0 Server: WebSTAR/1.3.1 ID/197...      course  \n",
       "180  Date: Thu, 21 Nov 1996 22:58:38 GMT Server: NC...     student  \n",
       "181  Date: Thu, 21 Nov 1996 20:11:47 GMT Server: NC...     faculty  \n",
       "182  Date: Thu, 21 Nov 1996 23:08:27 GMT Server: NC...     faculty  \n",
       "183  Date: Thu, 21 Nov 1996 20:11:34 GMT Server: NC...     faculty  \n",
       "184  Date: Thu, 21 Nov 1996 23:08:48 GMT Server: NC...     student  \n",
       "185  Date: Thu, 21 Nov 1996 22:59:50 GMT Server: NC...     student  \n",
       "186  Date: Thu, 21 Nov 1996 23:09:21 GMT Server: NC...     student  \n",
       "187  Date: Thu, 21 Nov 1996 20:07:18 GMT Server: NC...     student  \n",
       "188  Date: Thu, 21 Nov 1996 23:07:48 GMT Server: NC...     student  \n",
       "189  Date: Thu, 21 Nov 1996 23:10:35 GMT Server: NC...     student  \n",
       "190  Date: Thu, 21 Nov 1996 20:07:47 GMT Server: NC...     student  \n",
       "191  Date: Thu, 21 Nov 1996 23:07:53 GMT Server: NC...     student  \n",
       "192  Date: Thu, 21 Nov 1996 20:09:52 GMT Server: NC...     faculty  \n",
       "193  Date: Thu, 21 Nov 1996 23:02:38 GMT Server: NC...     student  \n",
       "194  Date: Thu, 21 Nov 1996 23:08:18 GMT Server: NC...     faculty  \n",
       "195  Date: Thu, 21 Nov 1996 23:04:29 GMT Server: NC...     student  \n",
       "196  Date: Thu, 21 Nov 1996 23:05:17 GMT Server: NC...     student  \n",
       "197  Date: Thu, 21 Nov 1996 23:10:40 GMT Server: NC...     student  \n",
       "198  Date: Thu, 21 Nov 1996 20:09:20 GMT Server: NC...     faculty  \n",
       "199  Date: Thu, 21 Nov 1996 23:00:32 GMT Server: NC...     student  \n",
       "\n",
       "[200 rows x 3 columns]"
      ]
     },
     "execution_count": 57,
     "metadata": {},
     "output_type": "execute_result"
    }
   ],
   "source": [
    "test_data.head(200)"
   ]
  },
  {
   "cell_type": "code",
   "execution_count": null,
   "metadata": {
    "collapsed": true
   },
   "outputs": [],
   "source": []
  }
 ],
 "metadata": {
  "anaconda-cloud": {},
  "kernelspec": {
   "display_name": "Python [conda root]",
   "language": "python",
   "name": "conda-root-py"
  },
  "language_info": {
   "codemirror_mode": {
    "name": "ipython",
    "version": 2
   },
   "file_extension": ".py",
   "mimetype": "text/x-python",
   "name": "python",
   "nbconvert_exporter": "python",
   "pygments_lexer": "ipython2",
   "version": "2.7.12"
  }
 },
 "nbformat": 4,
 "nbformat_minor": 1
}
